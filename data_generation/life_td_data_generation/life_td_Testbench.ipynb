{
 "cells": [
  {
   "cell_type": "markdown",
   "id": "315378ba",
   "metadata": {},
   "source": [
    "# Active work in LIFE Target Database"
   ]
  },
  {
   "cell_type": "markdown",
   "id": "64348fbe8690405e",
   "metadata": {},
   "source": [
    "# starcat 4 stars that would be good to be in there"
   ]
  },
  {
   "cell_type": "code",
   "execution_count": 34,
   "id": "be99f028731a7d7c",
   "metadata": {
    "ExecuteTime": {
     "end_time": "2025-02-28T16:12:42.180802Z",
     "start_time": "2025-02-28T16:12:42.162971Z"
    }
   },
   "outputs": [
    {
     "name": "stdout",
     "output_type": "stream",
     "text": [
      "    id     main_id  id_source_idref object_idref\n",
      "--------- --------- --------------- ------------\n",
      "* tau Cet * tau Cet             177          633\n",
      "* tau Cet * tau Cet             178          633\n",
      "type\n",
      "----\n",
      "  st\n",
      " main_id  class_lum class_temp class_temp_nr\n",
      "--------- --------- ---------- -------------\n",
      "* tau Cet         V          G             8\n"
     ]
    }
   ],
   "source": [
    "import numpy as np\n",
    "starname='* tau Cet'\n",
    "# find star in db\n",
    "table=database_tables['ident']\n",
    "main_id=table['main_id'][np.where(table['id']==starname)][0]\n",
    "print(table[np.where(table['id']==starname)])\n",
    "objects=database_tables['objects']\n",
    "print(objects['type'][np.where(objects['main_id']==main_id)])\n",
    "star_basic=database_tables['star_basic']\n",
    "cols=['main_id','class_lum','class_temp','class_temp_nr']\n",
    "print(star_basic[cols][np.where(star_basic['main_id']==main_id)])\n",
    "#now find its sibling"
   ]
  },
  {
   "cell_type": "markdown",
   "id": "40066c4b6b67d148",
   "metadata": {},
   "source": [
    "- Alp Cen A -> * alf Cen A -> higher order mult\n",
    "- Alp Cen B -> * alf Cen B -> higher order mult\n",
    "- Proxima Cen -> * alf Cen C -> higher order mult\n",
    "- Teegardens Star -> NAME Teegarden\\'s Star -> no sep\n",
    "- Tau Cet -> * tau Cet ->\n",
    "- Eps Eri -> * eps Eri -> why is here 0.0 in sep??\n",
    "- Eps Ind\n",
    "- HD 88230\n",
    "- omi02 Eri\n",
    "- sig Dra\n",
    "- Gliese 570\n",
    "- eta Cas A\n",
    "- eta Cas B\n",
    "- TRAPPIST-1\n"
   ]
  },
  {
   "cell_type": "code",
   "execution_count": 33,
   "id": "385751073818ca04",
   "metadata": {
    "ExecuteTime": {
     "end_time": "2025-02-28T16:11:40.370579Z",
     "start_time": "2025-02-28T16:11:40.209735Z"
    }
   },
   "outputs": [
    {
     "name": "stdout",
     "output_type": "stream",
     "text": [
      "tbd: file starcat4 analysis where this code is used to give specific reason why a given object was not included into the cat4\n",
      "parent_main_id child_main_id ... child_object_idref parent_object_idref\n",
      "                             ...                                       \n",
      "-------------- ------------- ... ------------------ -------------------\n",
      "     * alf Cen   * alf Cen A ...                216                 215\n",
      "parent_main_id child_main_id ... child_object_idref parent_object_idref\n",
      "                             ...                                       \n",
      "-------------- ------------- ... ------------------ -------------------\n",
      "     * alf Cen   * alf Cen B ...                218                 215\n",
      "parent_main_id     child_main_id     ... child_object_idref parent_object_idref\n",
      "                                     ...                                       \n",
      "-------------- --------------------- ... ------------------ -------------------\n",
      "     * alf Cen NAME Proxima Centauri ...              13124                 215\n",
      "parent_main_id child_main_id ... child_object_idref parent_object_idref\n",
      "                             ...                                       \n",
      "-------------- ------------- ... ------------------ -------------------\n",
      "     * alf Cen   * alf Cen A ...                216                 215\n",
      "parent_main_id child_main_id ... child_object_idref parent_object_idref\n",
      "                             ...                                       \n",
      "-------------- ------------- ... ------------------ -------------------\n",
      "     * alf Cen   * alf Cen B ...                218                 215\n",
      "parent_main_id     child_main_id     ... child_object_idref parent_object_idref\n",
      "                                     ...                                       \n",
      "-------------- --------------------- ... ------------------ -------------------\n",
      "     * alf Cen NAME Proxima Centauri ...              13124                 215\n",
      "parent_main_id child_main_id ... child_object_idref parent_object_idref\n",
      "                             ...                                       \n",
      "-------------- ------------- ... ------------------ -------------------\n",
      "     * alf Cen   * alf Cen A ...                216                 215\n",
      "parent_main_id child_main_id ... child_object_idref parent_object_idref\n",
      "                             ...                                       \n",
      "-------------- ------------- ... ------------------ -------------------\n",
      "     * alf Cen   * alf Cen B ...                218                 215\n",
      "parent_main_id     child_main_id     ... child_object_idref parent_object_idref\n",
      "                                     ...                                       \n",
      "-------------- --------------------- ... ------------------ -------------------\n",
      "     * alf Cen NAME Proxima Centauri ...              13124                 215\n",
      "  parent_main_id  child_main_id ... child_object_idref parent_object_idref\n",
      "                                ...                                       \n",
      "----------------- ------------- ... ------------------ -------------------\n",
      "WDS J01441-1556AB     * tau Cet ...                633               16649\n",
      "  parent_main_id   child_main_id   ... child_object_idref parent_object_idref\n",
      "                                   ...                                       \n",
      "----------------- ---------------- ... ------------------ -------------------\n",
      "WDS J01441-1556AB WDS J01441-1556B ...              16650               16649\n",
      "  parent_main_id  child_main_id ... child_object_idref parent_object_idref\n",
      "                                ...                                       \n",
      "----------------- ------------- ... ------------------ -------------------\n",
      "WDS J22034-5647AB     * eps Ind ...                349               21018\n",
      "  parent_main_id  child_main_id ... child_object_idref parent_object_idref\n",
      "                                ...                                       \n",
      "----------------- ------------- ... ------------------ -------------------\n",
      "WDS J22034-5647AB   * eps Ind B ...                351               21018\n",
      "Of the 14 objects given:\n",
      "Some are not in cat 4 because they are either:\n",
      "system_without_child ['* eta Cas A', '* eta Cas B'] 2\n",
      "star_without_parent ['TRAPPIST-1'] 1\n",
      "not found ['HD 88230'] \n",
      "\n",
      "Some were not included because they are systems and instead one should look at their child objects:\n",
      "children [\"NAME Teegarden's Star b\", \"NAME Teegarden's Star c\", \"NAME Teegarden's Star d\"] \n",
      "\n",
      "some are non trivial binaries:\n",
      "multiple parents ['* eps Eri', '* omi02 Eri', '* sig Dra', 'HD 131977'] 4\n",
      "higher_order_multiple ['* alf Cen A', '* alf Cen B', '* alf Cen C'] 3 \n",
      "\n",
      "And the reminder have conpanions that don t fit the spectral type requirements\n",
      "trivial binary ['* tau Cet', '* eps Ind'] 2\n"
     ]
    }
   ],
   "source": [
    "from utils.catalog_comparison import detail_criteria\n",
    "l_golden_targets=['* alf Cen A','* alf Cen B','* alf Cen C','NAME Teegarden\\'s Star','* tau Cet','* eps Eri','* eps Ind','HD 88230','* omi02 Eri','* sig Dra','HD 131977','* eta Cas A','* eta Cas B','TRAPPIST-1']\n",
    "detail_criteria(database_tables,l_golden_targets)\n",
    "#to do, include get main id search in this code\n",
    "#to do, save star names without NAME in front.\n",
    "#to do, refactor this function\n",
    "#to do, write tests for this function"
   ]
  },
  {
   "cell_type": "code",
   "execution_count": 30,
   "id": "4a023c97",
   "metadata": {
    "ExecuteTime": {
     "end_time": "2025-02-28T16:01:38.257713Z",
     "start_time": "2025-02-28T16:01:38.252331Z"
    }
   },
   "outputs": [],
   "source": [
    "\n",
    "\n",
    "\n",
    "#'* 212 Pup A' kicked out in non trivial binaries in starcat but in this code as trivial binary with companion not matching sptype\n",
    "#['* zet01 Ret', '*  50 Per', 'HD  50281', 'HD  65907', '* eps Ind', 'V* V2215 Oph'] other way round"
   ]
  },
  {
   "cell_type": "markdown",
   "id": "452ccbe4",
   "metadata": {},
   "source": [
    "# database creation"
   ]
  },
  {
   "cell_type": "code",
   "execution_count": 6,
   "id": "5bd5a862",
   "metadata": {
    "ExecuteTime": {
     "end_time": "2025-02-28T15:37:13.455603Z",
     "start_time": "2025-02-28T15:33:56.766150Z"
    }
   },
   "outputs": [
    {
     "name": "stdout",
     "output_type": "stream",
     "text": [
      "Building life_td data with distance cut of 30 pc\n",
      "Trying to create SIMBAD tables from 2025-02-28...\n"
     ]
    },
    {
     "name": "stderr",
     "output_type": "stream",
     "text": [
      "WARNING: W50: ?:?:?: W50: Invalid unit string 'percent' [astropy.io.votable.tree]\n",
      "WARNING: W50: ?:?:?: W50: Invalid unit string 'percent' [astropy.io.votable.tree]\n",
      "WARNING: MergeConflictWarning: Cannot merge meta key 'ID' types <class 'str'> and <class 'str'>, choosing ID='result_1740756846026' [astropy.utils.metadata.merge]\n",
      "WARNING: MergeConflictWarning: Cannot merge meta key 'name' types <class 'str'> and <class 'str'>, choosing name='result_1740756846026' [astropy.utils.metadata.merge]\n",
      "WARNING: MergeConflictWarning: Cannot merge meta key 'ID' types <class 'str'> and <class 'str'>, choosing ID='result_1740756856721' [astropy.utils.metadata.merge]\n",
      "WARNING: MergeConflictWarning: Cannot merge meta key 'name' types <class 'str'> and <class 'str'>, choosing name='result_1740756856721' [astropy.utils.metadata.merge]\n"
     ]
    },
    {
     "name": "stdout",
     "output_type": "stream",
     "text": [
      " sorting object types...\n",
      "removing 22  objects that had object types: ['BD?|NIR', 'BD?|MIR|NIR', 'BD?|MIR', 'BD?|MIR|NIR|Opt']\n",
      "example object of them: CWISEP J210007.87-293139.8\n"
     ]
    },
    {
     "name": "stderr",
     "output_type": "stream",
     "text": [
      "WARNING: W50: ?:?:?: W50: Invalid unit string 'percent' [astropy.io.votable.tree]\n",
      "WARNING: MergeConflictWarning: Cannot merge meta key 'ID' types <class 'str'> and <class 'str'>, choosing ID='result_1740756856721' [astropy.utils.metadata.merge]\n",
      "WARNING: MergeConflictWarning: Cannot merge meta key 'name' types <class 'str'> and <class 'str'>, choosing name='result_1740756856721' [astropy.utils.metadata.merge]\n",
      "WARNING: W50: ?:?:?: W50: Invalid unit string 'percent' [astropy.io.votable.tree]\n"
     ]
    },
    {
     "name": "stdout",
     "output_type": "stream",
     "text": [
      "Trying to create Grant Kennedy Disks tables from 2024-02-09...\n",
      "Trying to create WDS tables from 2025-02-28...\n",
      "Creating  WDS  tables ...\n",
      " querying VizieR for WDS...\n",
      "not sure how to handle:  BC  1\n",
      "not sure how to handle:  AC  1\n",
      " performing distance cut...\n"
     ]
    },
    {
     "name": "stderr",
     "output_type": "stream",
     "text": [
      "WARNING: MergeConflictWarning: Cannot merge meta key 'ID' types <class 'str'> and <class 'str'>, choosing ID='result_1740756867032' [astropy.utils.metadata.merge]\n",
      "WARNING: MergeConflictWarning: Cannot merge meta key 'name' types <class 'str'> and <class 'str'>, choosing name='result_1740756867032' [astropy.utils.metadata.merge]\n",
      "WARNING: MergeConflictWarning: Cannot merge meta key 'ID' types <class 'str'> and <class 'str'>, choosing ID='result_1740756874363' [astropy.utils.metadata.merge]\n",
      "WARNING: MergeConflictWarning: Cannot merge meta key 'name' types <class 'str'> and <class 'str'>, choosing name='result_1740756874363' [astropy.utils.metadata.merge]\n",
      "WARNING: MergeConflictWarning: In merged column 'main_id' the 'description' attribute does not match (WDS name (based on J2000 position) != Main identifier for an object).  Using Main identifier for an object for merged output [astropy.utils.metadata.merge]\n",
      "WARNING: MergeConflictWarning: In merged column 'id' the 'description' attribute does not match (WDS name (based on J2000 position) != Main identifier for an object).  Using Main identifier for an object for merged output [astropy.utils.metadata.merge]\n",
      "WARNING: MergeConflictWarning: In merged column 'id' the 'description' attribute does not match (Main identifier for an object != WDS name (based on J2000 position)).  Using WDS name (based on J2000 position) for merged output [astropy.utils.metadata.merge]\n",
      "WARNING: MergeConflictWarning: In merged column 'main_id' the 'description' attribute does not match (Main identifier for an object != WDS name (based on J2000 position)).  Using WDS name (based on J2000 position) for merged output [astropy.utils.metadata.merge]\n",
      "WARNING: MergeConflictWarning: In merged column 'parent_main_id' the 'description' attribute does not match (WDS name (based on J2000 position) != Main identifier for an object).  Using Main identifier for an object for merged output [astropy.utils.metadata.merge]\n",
      "WARNING: MergeConflictWarning: In merged column 'parent_main_id' the 'description' attribute does not match (Main identifier for an object != WDS name (based on J2000 position)).  Using WDS name (based on J2000 position) for merged output [astropy.utils.metadata.merge]\n",
      "WARNING: MergeConflictWarning: In merged column 'sep_ang_value' the 'description' attribute does not match (? Separation at date Obs1 != ? Separation at date Obs12).  Using ? Separation at date Obs12 for merged output [astropy.utils.metadata.merge]\n",
      "WARNING: MergeConflictWarning: In merged column 'sep_ang_obs_date' the 'description' attribute does not match (? Date of first satisfactory observation != ? Date of last satisfactory observation).  Using ? Date of last satisfactory observation for merged output [astropy.utils.metadata.merge]\n"
     ]
    },
    {
     "name": "stdout",
     "output_type": "stream",
     "text": [
      "Trying to create Exo-MerCat tables from 2025-02-28...\n"
     ]
    },
    {
     "name": "stderr",
     "output_type": "stream",
     "text": [
      "WARNING: MergeConflictWarning: Cannot merge meta key 'ID' types <class 'str'> and <class 'str'>, choosing ID='result_1740756856721' [astropy.utils.metadata.merge]\n",
      "WARNING: MergeConflictWarning: Cannot merge meta key 'name' types <class 'str'> and <class 'str'>, choosing name='result_1740756856721' [astropy.utils.metadata.merge]\n",
      "WARNING: MergeConflictWarning: Cannot merge meta key 'ID' types <class 'str'> and <class 'str'>, choosing ID='result_1740756912927' [astropy.utils.metadata.merge]\n",
      "WARNING: MergeConflictWarning: Cannot merge meta key 'name' types <class 'str'> and <class 'str'>, choosing name='result_1740756912927' [astropy.utils.metadata.merge]\n",
      "WARNING: W50: ?:?:?: W50: Invalid unit string ''MJup'' [astropy.io.votable.tree]\n",
      "WARNING: W50: ?:?:?: W50: Invalid unit string ''RJup'' [astropy.io.votable.tree]\n",
      "WARNING: MergeConflictWarning: Cannot merge meta key 'ucd' types <class 'str'> and <class 'str'>, choosing ucd='phys.mass;stat.min' [astropy.utils.metadata.merge]\n",
      "WARNING: MergeConflictWarning: In merged column 'mass_pl_value' the 'description' attribute does not match (Planet mass in Jovian masses != Planet minimum mass in Jovian masses).  Using Planet minimum mass in Jovian masses for merged output [astropy.utils.metadata.merge]\n",
      "WARNING: MergeConflictWarning: Cannot merge meta key 'ucd' types <class 'str'> and <class 'str'>, choosing ucd='phys.mass;stat.min;stat.max' [astropy.utils.metadata.merge]\n",
      "WARNING: MergeConflictWarning: In merged column 'mass_pl_err_max' the 'description' attribute does not match (Positive error on the mass in Jovian masses != Positive error on the minimum mass in Jovian masses).  Using Positive error on the minimum mass in Jovian masses for merged output [astropy.utils.metadata.merge]\n",
      "WARNING: MergeConflictWarning: Cannot merge meta key 'ucd' types <class 'str'> and <class 'str'>, choosing ucd='phys.mass;stat.min;stat.min' [astropy.utils.metadata.merge]\n",
      "WARNING: MergeConflictWarning: In merged column 'mass_pl_err_min' the 'description' attribute does not match (Negative error on the mass in Jovian masses != Negative error on the minimum mass in Jovian masses).  Using Negative error on the minimum mass in Jovian masses for merged output [astropy.utils.metadata.merge]\n",
      "WARNING: MergeConflictWarning: In merged column 'mass_pl_ref' the 'description' attribute does not match (Bibcode of the reference paper for the mass value != Bibcode of the reference paper for the minimum mass value).  Using Bibcode of the reference paper for the minimum mass value for merged output [astropy.utils.metadata.merge]\n",
      "WARNING: W50: ?:?:?: W50: Invalid unit string ''MJup'' [astropy.io.votable.tree]\n"
     ]
    },
    {
     "name": "stdout",
     "output_type": "stream",
     "text": [
      "Trying to create LIFE tables from 2025-02-28...\n",
      "Trying to create Gaia tables from 2025-02-28...\n"
     ]
    },
    {
     "name": "stderr",
     "output_type": "stream",
     "text": [
      "WARNING: MergeConflictWarning: Cannot merge meta key 'ucd' types <class 'str'> and <class 'str'>, choosing ucd='phys.temperature.effective;stat.median' [astropy.utils.metadata.merge]\n",
      "WARNING: MergeConflictWarning: In merged column 'teff_st_value' the 'description' attribute does not match (Effective temperature from GSP-Phot Aeneas best library using BP/RP spectra != Effective temperature from GSP-Spec MatisseGauguin using RVS spectra and Monte Carlo realisations).  Using Effective temperature from GSP-Spec MatisseGauguin using RVS spectra and Monte Carlo realisations for merged output [astropy.utils.metadata.merge]\n"
     ]
    },
    {
     "name": "stdout",
     "output_type": "stream",
     "text": [
      "Building sources table ...\n",
      "Building objects table ...\n"
     ]
    },
    {
     "name": "stderr",
     "output_type": "stream",
     "text": [
      "WARNING: MergeConflictWarning: Cannot merge meta key 'ID' types <class 'str'> and <class 'str'>, choosing ID='result_1740756879870' [astropy.utils.metadata.merge]\n",
      "WARNING: MergeConflictWarning: Cannot merge meta key 'name' types <class 'str'> and <class 'str'>, choosing name='result_1740756879870' [astropy.utils.metadata.merge]\n",
      "WARNING: MergeConflictWarning: Cannot merge meta key 'ID' types <class 'str'> and <class 'str'>, choosing ID='result_1740756935538' [astropy.utils.metadata.merge]\n",
      "WARNING: MergeConflictWarning: Cannot merge meta key 'name' types <class 'str'> and <class 'str'>, choosing name='result_1740756935538' [astropy.utils.metadata.merge]\n"
     ]
    },
    {
     "name": "stdout",
     "output_type": "stream",
     "text": [
      "Building provider table ...\n",
      "Building ident table ...\n"
     ]
    },
    {
     "name": "stderr",
     "output_type": "stream",
     "text": [
      "WARNING: MergeConflictWarning: Cannot merge meta key 'ID' types <class 'str'> and <class 'str'>, choosing ID='result_1740756879870' [astropy.utils.metadata.merge]\n",
      "WARNING: MergeConflictWarning: Cannot merge meta key 'name' types <class 'str'> and <class 'str'>, choosing name='result_1740756879870' [astropy.utils.metadata.merge]\n",
      "WARNING: MergeConflictWarning: Cannot merge meta key 'ucd' types <class 'str'> and <class 'str'>, choosing ucd='meta.id;meta.main' [astropy.utils.metadata.merge]\n",
      "WARNING: MergeConflictWarning: In merged column 'id' the 'description' attribute does not match (Identifier != WDS name (based on J2000 position)).  Using WDS name (based on J2000 position) for merged output [astropy.utils.metadata.merge]\n",
      "WARNING: MergeConflictWarning: In merged column 'id' the 'description' attribute does not match (WDS name (based on J2000 position) != Main identifier for an object).  Using Main identifier for an object for merged output [astropy.utils.metadata.merge]\n",
      "WARNING: MergeConflictWarning: Cannot merge meta key 'ID' types <class 'str'> and <class 'str'>, choosing ID='result_1740756935538' [astropy.utils.metadata.merge]\n",
      "WARNING: MergeConflictWarning: Cannot merge meta key 'name' types <class 'str'> and <class 'str'>, choosing name='result_1740756935538' [astropy.utils.metadata.merge]\n"
     ]
    },
    {
     "name": "stdout",
     "output_type": "stream",
     "text": [
      "Building best_h_link table ...\n",
      "warning: empty table best_h_link\n",
      "Building star_basic table ...\n",
      "Building planet_basic table ...\n",
      "Building disk_basic table ...\n",
      "Building mes_mass_pl table ...\n",
      "Building mes_teff_st table ...\n",
      "Building mes_radius_st table ...\n",
      "Building mes_mass_st table ...\n",
      "Building mes_binary table ...\n",
      "Building mes_sep_ang table ...\n",
      "Building h_link table ...\n"
     ]
    },
    {
     "name": "stderr",
     "output_type": "stream",
     "text": [
      "WARNING: MergeConflictWarning: In merged column 'parent_main_id' the 'description' attribute does not match (Main identifier for an object != Main identifier of the host star from SIMBAD or TIC catalogs).  Using Main identifier of the host star from SIMBAD or TIC catalogs for merged output [astropy.utils.metadata.merge]\n",
      "WARNING: MergeConflictWarning: Cannot merge meta key 'ID' types <class 'str'> and <class 'str'>, choosing ID='result_1740756912927' [astropy.utils.metadata.merge]\n",
      "WARNING: MergeConflictWarning: Cannot merge meta key 'name' types <class 'str'> and <class 'str'>, choosing name='result_1740756912927' [astropy.utils.metadata.merge]\n"
     ]
    },
    {
     "name": "stdout",
     "output_type": "stream",
     "text": [
      "Unifying null values...\n",
      "Saving data...\n"
     ]
    },
    {
     "name": "stderr",
     "output_type": "stream",
     "text": [
      "WARNING: W50: ?:?:?: W50: Invalid unit string 'percent' [astropy.io.votable.tree]\n",
      "WARNING: W50: ?:?:?: W50: Invalid unit string ''MJup'' [astropy.io.votable.tree]\n"
     ]
    }
   ],
   "source": [
    "import importlib #reloading external functions after modification\n",
    "\n",
    "#self created modules\n",
    "import life_td as ltd\n",
    "importlib.reload(ltd)#reload module after changing it\n",
    "\n",
    "#provider_tables_dict, database_tables= ltd.partial_create(30,create=['life'])\n",
    "\n",
    "provider_tables_dict, database_tables= ltd.create_life_td(30)\n",
    "\n",
    "#issue: does not wokr with loading as then id_source_idref already exists -> put in a workaround with a warning. though now did not happen...\n",
    "\n",
    "#issue: create not working right now because exomercat server not available -> put in a workaround\n",
    "#issue: main_id missing in star_basic -> suddenly working??"
   ]
  },
  {
   "cell_type": "markdown",
   "id": "d2ebcef0",
   "metadata": {},
   "source": [
    "# load and analyze database"
   ]
  },
  {
   "cell_type": "code",
   "execution_count": 48,
   "id": "cab79fab",
   "metadata": {},
   "outputs": [
    {
     "name": "stdout",
     "output_type": "stream",
     "text": [
      "Loading life_td generated data\n"
     ]
    }
   ],
   "source": [
    "import importlib #reloading external functions after modification\n",
    "\n",
    "#self created modules\n",
    "import life_td as ltd\n",
    "importlib.reload(ltd)#reload module after changing it\n",
    "\n",
    "provider_tables_dict, database_tables= ltd.load_life_td()\n"
   ]
  },
  {
   "cell_type": "markdown",
   "id": "d5449b37-d1a0-4520-bc14-60381eaf9786",
   "metadata": {},
   "source": [
    "Finding issue that causes M0-M5 stars to have too high temperatures (4250 instead of 3000)"
   ]
  },
  {
   "cell_type": "code",
   "execution_count": 42,
   "id": "d2d1b54c-163f-44d1-b3d9-266fd5ffaeae",
   "metadata": {},
   "outputs": [
    {
     "name": "stdout",
     "output_type": "stream",
     "text": [
      "{'sources': <Table length=102>\n",
      "                       ref                            provider_name    source_id\n",
      "                      object                              object         int64  \n",
      "-------------------------------------------------- ------------------- ---------\n",
      "                               1967AJ.....72.1334C              SIMBAD         1\n",
      "                               1980AJ.....85..454H              SIMBAD         2\n",
      "                               1982A&A...108..406K              SIMBAD         3\n",
      "                               1982ApJ...253..237C              SIMBAD         4\n",
      "                               1982MSS...C03....0H              SIMBAD         5\n",
      "                               1983SAAOC...7..106W              SIMBAD         6\n",
      "                               1984ApJ...276..602G              SIMBAD         7\n",
      "                               1985ApJS...59..197B              SIMBAD         8\n",
      "                               1988AJ.....95.1841G              SIMBAD         9\n",
      "                                               ...                 ...       ...\n",
      "                      2022arXiv220800211G GSP-Spec                Gaia        93\n",
      "                               2023A&A...670A...5S              SIMBAD        94\n",
      "                               2023ApJ...959...63S              SIMBAD        95\n",
      "                               2024A&A...684A.117D              SIMBAD        96\n",
      "                               2024AN....34530158B          Exo-MerCat        97\n",
      "                                              LIFE                LIFE        98\n",
      "                                                eu          Exo-MerCat        99\n",
      "https://www.nature.com/articles/s41586-024-07837-8          Exo-MerCat       100\n",
      "                                               oec          Exo-MerCat       101\n",
      "                                       priv. comm. Grant Kennedy Disks       102, 'objects': <Table length=427>\n",
      "         main_id           ... object_id\n",
      "          object           ...   int64  \n",
      "-------------------------- ... ---------\n",
      "                 *  61 Cyg ...         1\n",
      "              *  61 Cyg  b ...         2\n",
      "               *  61 Cyg A ...         3\n",
      "               *  61 Cyg B ...         4\n",
      "                 *  70 Oph ...         5\n",
      "               *  70 Oph A ...         6\n",
      "               *  70 Oph B ...         7\n",
      "                 * alf Aql ...         8\n",
      "                 * alf CMa ...         9\n",
      "                       ... ...       ...\n",
      "                Wolf  359c ...       418\n",
      "                 Wolf  424 ...       419\n",
      "               Wolf  424 A ...       420\n",
      "               Wolf  424 B ...       421\n",
      " sdb-v2-014404.08-155614.9 ...       422\n",
      "sdb-v2-033255.84-092729.7a ...       423\n",
      "sdb-v2-033255.84-092729.7b ...       424\n",
      " sdb-v2-143936.49-605002.4 ...       425\n",
      " sdb-v2-172839.95-465342.7 ...       426\n",
      " sdb-v2-184246.89+593736.7 ...       427, 'provider': <Table length=6>\n",
      "   provider_name    ... provider_access\n",
      "       object       ...      object    \n",
      "------------------- ... ---------------\n",
      "         Exo-MerCat ...      2025-02-10\n",
      "               Gaia ...      2025-02-10\n",
      "Grant Kennedy Disks ...      2024-02-09\n",
      "               LIFE ...      2025-02-10\n",
      "             SIMBAD ...      2025-02-10\n",
      "                WDS ...      2025-02-10, 'ident': <Table length=3946>\n",
      "       id           main_id    id_source_idref object_idref\n",
      "     object          object         int64         int64    \n",
      "---------------- ------------- --------------- ------------\n",
      "       *   9 CMa     * alf CMa              19            9\n",
      "       *  10 CMi     * alf CMi              19           12\n",
      "       *  18 Eri     * eps Eri              19           19\n",
      "     *  18 Eri b   * eps Eri b              19           20\n",
      "     *  18 Eri c   * eps Eri c              19           21\n",
      "       *  40 Eri   * omi02 Eri              19           27\n",
      "     *  40 Eri B * omi02 Eri B              19           29\n",
      "     *  40 Eri C * omi02 Eri C              19           30\n",
      "       *  52 Cet     * tau Cet              19           32\n",
      "             ...           ...             ...          ...\n",
      "uvby98 100128620     * alf Cen              19           13\n",
      "uvby98 100165341     *  70 Oph              19            5\n",
      "uvby98 100187642     * alf Aql              19            8\n",
      "uvby98 100201092   *  61 Cyg B              19            4\n",
      "uvby98 100202560     V* AX Mic              19          195\n",
      "uvby98 100209100     * eps Ind              19           22\n",
      "uvby98 100217987     HD 217987              19          140\n",
      "uvby98 980001027     Wolf   28              19          414\n",
      "uvby98 986145141       LAWD 37              19          153\n",
      "         vMa 1-2     Wolf   28              19          414, 'best_h_link': <Table length=302>\n",
      "  parent_main_id        child_main_id        ... parent_object_idref\n",
      "                                             ...                    \n",
      "      object                object           ...        int64       \n",
      "----------------- -------------------------- ... -------------------\n",
      "        *  61 Cyg                *  61 Cyg A ...                   1\n",
      "        *  61 Cyg                *  61 Cyg B ...                   1\n",
      "        *  70 Oph                *  70 Oph A ...                   5\n",
      "        *  70 Oph                *  70 Oph B ...                   5\n",
      "WDS J19508+0852AB                  * alf Aql ...                 347\n",
      "WDS J19508+0852AC                  * alf Aql ...                 348\n",
      "WDS J19508+0852AD                  * alf Aql ...                 349\n",
      "WDS J19508+0852AE                  * alf Aql ...                 350\n",
      "WDS J19508+0852AF                  * alf Aql ...                 351\n",
      "              ...                        ... ...                 ...\n",
      "        Wolf  359                 Wolf  359c ...                 416\n",
      "        Wolf  424                Wolf  424 A ...                 419\n",
      "        Wolf  424                Wolf  424 B ...                 419\n",
      "        * tau Cet  sdb-v2-014404.08-155614.9 ...                  32\n",
      "        * eps Eri sdb-v2-033255.84-092729.7a ...                  19\n",
      "        * eps Eri sdb-v2-033255.84-092729.7b ...                  19\n",
      "      * alf Cen A  sdb-v2-143936.49-605002.4 ...                  14\n",
      "      CD-46 11540  sdb-v2-172839.95-465342.7 ...                  76\n",
      "        HD 173740  sdb-v2-184246.89+593736.7 ...                 135, 'star_basic': <Table length=307>\n",
      "         main_id                coo_ra       ... sep_ang_source_idref\n",
      "                                 deg         ...                     \n",
      "          object               float64       ...        int64        \n",
      "------------------------- ------------------ ... --------------------\n",
      "                *  61 Cyg 316.72479166666665 ...                   22\n",
      "              *  61 Cyg A  316.7247482895925 ...               999999\n",
      "              *  61 Cyg B  316.7302660185276 ...               999999\n",
      "                *  70 Oph   271.363688269495 ...                   22\n",
      "              *  70 Oph A 271.36353505499625 ...               999999\n",
      "              *  70 Oph B  271.3644289008066 ...               999999\n",
      "                * alf Aql 297.69582729638694 ...               999999\n",
      "                * alf CMa 101.28715533333335 ...               999999\n",
      "              * alf CMa B 101.28876746876543 ...                   22\n",
      "                      ...                ... ...                  ...\n",
      "         WDS J22468+4420E              1e+20 ...               999999\n",
      " WISE J072227.27-054029.9         110.616275 ...               999999\n",
      " WISE J163940.83-684738.6         249.920156 ...               999999\n",
      "WISEA J085510.74-071442.5       133.81890825 ...               999999\n",
      "                Wolf   28 12.291243072220414 ...               999999\n",
      "                Wolf  359  164.1205036259475 ...               999999\n",
      "                Wolf  424        188.3223395 ...                   22\n",
      "              Wolf  424 A 188.32257346994038 ...               999999\n",
      "              Wolf  424 B 188.32237406094544 ...               999999, 'planet_basic': <Table length=115>\n",
      "object_idref            main_id            ... mass_pl_qual mass_pl_source_idref\n",
      "                                           ...                                  \n",
      "   int64                 object            ...    object           int64        \n",
      "------------ ----------------------------- ... ------------ --------------------\n",
      "           2                  *  61 Cyg  b ...            D                   99\n",
      "          11                 * alf CMa B b ...            B                   99\n",
      "          15                 * alf Cen A b ...                                --\n",
      "          17                 * alf Cen B c ...                                --\n",
      "          18                  * alf Cen Bb ...            B                   99\n",
      "          20                   * eps Eri b ...            B                   99\n",
      "          21                   * eps Eri c ...            D                   99\n",
      "          23                 * eps Ind A b ...            B                  100\n",
      "          25                 * eps Ind B b ...            B                   99\n",
      "         ...                           ... ...          ...                  ...\n",
      "         204                  V* YZ Cet  c ...            B                   99\n",
      "         205                  V* YZ Cet  d ...            B                   99\n",
      "         206                  V* YZ Cet  e ...            B                   99\n",
      "         409  WISE J072227.27-054029.9  BD ...            B                   99\n",
      "         411  WISE J163940.83-684738.6  BD ...            B                   99\n",
      "         413 WISEA J085510.74-071442.5  BD ...            B                   99\n",
      "         415                  Wolf   28  b ...            B                   99\n",
      "         417                    Wolf  359b ...            B                   99\n",
      "         418                    Wolf  359c ...            B                   99, 'disk_basic': <Table length=6>\n",
      "         main_id           rad_value rad_err  ... rad_rel rad_qual object_idref\n",
      "          object            float64  float64  ...  object  object     int64    \n",
      "-------------------------- --------- -------- ... ------- -------- ------------\n",
      " sdb-v2-014404.08-155614.9   4.31954 0.780781 ...       ?        ?          422\n",
      "sdb-v2-033255.84-092729.7a   46.2161  26.4511 ...       ?        ?          423\n",
      "sdb-v2-033255.84-092729.7b   5.03876 0.314595 ...       ?        ?          424\n",
      " sdb-v2-143936.49-605002.4   14.5999  12.5211 ...       ?        ?          425\n",
      " sdb-v2-172839.95-465342.7    32.598  15.1046 ...       ?        ?          426\n",
      " sdb-v2-184246.89+593736.7   11.5045  6.36718 ...       ?        ?          427, 'mes_mass_pl': <Table length=92>\n",
      "           main_id            mass_pl_value ... mass_pl_rel object_idref\n",
      "                                   MJup     ...                         \n",
      "            object               float64    ...    object      int64    \n",
      "----------------------------- ------------- ... ----------- ------------\n",
      "                 *  61 Cyg  b          10.0 ...           ?            2\n",
      "                * alf CMa B b           1.5 ...           ?           11\n",
      "                 * alf Cen Bb        0.0036 ...           ?           18\n",
      "                  * eps Eri b          0.76 ...           ?           20\n",
      "                  * eps Eri c           0.1 ...           ?           21\n",
      "                * eps Ind A b          6.31 ...           ?           23\n",
      "                * eps Ind B b         53.25 ...           ?           25\n",
      "              * omi02 Eri A b       0.02665 ...           ?           28\n",
      "                 * tau Cet  i           1.5 ...           ?           33\n",
      "                          ...           ... ...         ...          ...\n",
      "                 V* YZ Cet  c       0.00359 ...           ?          204\n",
      "                 V* YZ Cet  d       0.00343 ...           ?          205\n",
      "                 V* YZ Cet  e       0.00149 ...           ?          206\n",
      " WISE J072227.27-054029.9  BD          18.2 ...           ?          409\n",
      " WISE J163940.83-684738.6  BD          13.0 ...           ?          411\n",
      "WISEA J085510.74-071442.5  BD           6.0 ...           ?          413\n",
      "                 Wolf   28  b           0.7 ...           ?          415\n",
      "                   Wolf  359b        0.1381 ...           ?          417\n",
      "                   Wolf  359c         0.012 ...           ?          418, 'mes_teff_st': <Table length=120>\n",
      "  main_id    teff_st_value   teff_st_qual ... teff_st_err object_idref\n",
      "                   K                      ...                         \n",
      "   object       float64         object    ...   float64      int64    \n",
      "----------- ---------------- ------------ ... ----------- ------------\n",
      "*  61 Cyg A           4192.0            B ...       1e+20            3\n",
      "*  61 Cyg A 4353.74365234375            B ...       1e+20            3\n",
      "*  61 Cyg A           4440.0            D ...       1e+20            3\n",
      "*  61 Cyg B     3889.6328125            B ...       1e+20            4\n",
      "*  61 Cyg B           3920.0            B ...       1e+20            4\n",
      "*  61 Cyg B           4100.0            D ...       1e+20            4\n",
      "*  70 Oph A           5270.0            D ...       1e+20            6\n",
      "*  70 Oph B           4600.0            D ...       1e+20            7\n",
      "  * alf Aql           7760.0            D ...       1e+20            8\n",
      "        ...              ...          ... ...         ...          ...\n",
      "  V* AD Leo           3270.0            D ...       1e+20          193\n",
      "  V* AX Mic           3620.0            D ...       1e+20          195\n",
      "  V* AX Mic           3905.0            B ...       1e+20          195\n",
      "  V* EV Lac           3110.0            D ...       1e+20          197\n",
      "  V* EZ Aqr           2930.0            D ...       1e+20          198\n",
      "  V* TZ Ari           3110.0            D ...       1e+20          199\n",
      "  V* YZ Cet           3110.0            D ...       1e+20          202\n",
      "  V* YZ Cet           4250.0            B ...       1e+20          202\n",
      "  Wolf  359           2740.0            D ...       1e+20          416, 'mes_radius_st': <Table length=89>\n",
      "    main_id       radius_st_value   ... radius_st_err object_idref\n",
      "                       solRad       ...                           \n",
      "     object           float64       ...    float64       int64    \n",
      "---------------- ------------------ ... ------------- ------------\n",
      "     *  61 Cyg A 0.6822791695594788 ...         1e+20            3\n",
      "     *  61 Cyg A              0.701 ...         1e+20            3\n",
      "     *  61 Cyg B               0.63 ...         1e+20            4\n",
      "     *  61 Cyg B 0.6768411993980408 ...         1e+20            4\n",
      "     *  70 Oph A              0.813 ...         1e+20            6\n",
      "     *  70 Oph B              0.713 ...         1e+20            7\n",
      "       * alf Aql               1.75 ...         1e+20            8\n",
      "       * alf CMa              2.193 ...         1e+20            9\n",
      "     * alf Cen A              1.012 ...         1e+20           14\n",
      "             ...                ... ...           ...          ...\n",
      "  SCR J1845-6357              0.104 ...         1e+20          190\n",
      "UCAC4 195-119117              0.116 ...         1e+20          192\n",
      "       V* AD Leo                0.3 ...         1e+20          193\n",
      "       V* AX Mic              0.482 ...         1e+20          195\n",
      "       V* EV Lac              0.217 ...         1e+20          197\n",
      "       V* EZ Aqr              0.156 ...         1e+20          198\n",
      "       V* TZ Ari              0.217 ...         1e+20          199\n",
      "       V* YZ Cet              0.217 ...         1e+20          202\n",
      "       Wolf  359              0.126 ...         1e+20          416, 'mes_mass_st': <Table length=68>\n",
      "    main_id        mass_st_value    mass_st_qual ... mass_st_err object_idref\n",
      "                      solMass                    ...                         \n",
      "     object           float64          object    ...   float64      int64    \n",
      "---------------- ------------------ ------------ ... ----------- ------------\n",
      "     *  61 Cyg A 0.6795274019241333            B ...       1e+20            3\n",
      "     *  61 Cyg A                0.7            D ...       1e+20            3\n",
      "     *  61 Cyg B               0.64            D ...       1e+20            4\n",
      "     *  70 Oph A               0.88            D ...       1e+20            6\n",
      "     *  70 Oph B               0.73            D ...       1e+20            7\n",
      "       * alf Aql               1.77            D ...       1e+20            8\n",
      "       * alf CMa               2.18            D ...       1e+20            9\n",
      "     * alf Cen A                1.0            D ...       1e+20           14\n",
      "     * alf Cen B               0.86            D ...       1e+20           16\n",
      "             ...                ...          ... ...         ...          ...\n",
      "  SCR J1845-6357               0.08            D ...       1e+20          190\n",
      "UCAC4 195-119117              0.088            D ...       1e+20          192\n",
      "       V* AD Leo               0.27            D ...       1e+20          193\n",
      "       V* AX Mic               0.47            D ...       1e+20          195\n",
      "       V* EV Lac              0.184            D ...       1e+20          197\n",
      "       V* EZ Aqr              0.123            D ...       1e+20          198\n",
      "       V* TZ Ari              0.184            D ...       1e+20          199\n",
      "       V* YZ Cet              0.184            D ...       1e+20          202\n",
      "       Wolf  359              0.093            D ...       1e+20          416, 'mes_binary': <Table length=416>\n",
      "  main_id   binary_flag binary_qual ... binary_source_idref object_idref\n",
      "   object      object      object   ...        int64           int64    \n",
      "----------- ----------- ----------- ... ------------------- ------------\n",
      "  *  61 Cyg        True           C ...                  22            1\n",
      "  *  61 Cyg        True           D ...                  19            1\n",
      "*  61 Cyg A       False           E ...                  59            3\n",
      "*  61 Cyg A        True           C ...                  22            3\n",
      "*  61 Cyg A        True           D ...                  19            3\n",
      "*  61 Cyg B       False           E ...                  59            4\n",
      "*  61 Cyg B        True           C ...                  22            4\n",
      "*  61 Cyg B        True           D ...                  19            4\n",
      "  *  70 Oph        True           C ...                  22            5\n",
      "        ...         ...         ... ...                 ...          ...\n",
      "  Wolf  359       False           D ...                  19          416\n",
      "  Wolf  359       False           E ...                  59          416\n",
      "  Wolf  424        True           C ...                  22          419\n",
      "  Wolf  424        True           D ...                  19          419\n",
      "Wolf  424 A       False           E ...                  59          420\n",
      "Wolf  424 A        True           C ...                  22          420\n",
      "Wolf  424 A        True           D ...                  19          420\n",
      "Wolf  424 B       False           E ...                  59          421\n",
      "Wolf  424 B        True           C ...                  22          421\n",
      "Wolf  424 B        True           D ...                  19          421, 'mes_sep_ang': <Table length=291>\n",
      "     main_id      sep_ang_value sep_ang_obs_date ... sep_ang_err object_idref\n",
      "                      arcsec           yr        ...                         \n",
      "      object         float64         int64       ...   float64      int64    \n",
      "----------------- ------------- ---------------- ... ----------- ------------\n",
      "        *  61 Cyg           7.8             2006 ...       1e+20            1\n",
      "        *  61 Cyg           7.8             2006 ...       1e+20            1\n",
      "        *  61 Cyg           9.9             2006 ...       1e+20            1\n",
      "        *  61 Cyg           9.9             2006 ...       1e+20            1\n",
      "        *  61 Cyg          11.5             2005 ...       1e+20            1\n",
      "        *  61 Cyg          11.5             2005 ...       1e+20            1\n",
      "        *  61 Cyg          17.5             2015 ...       1e+20            1\n",
      "        *  61 Cyg          19.6             1753 ...       1e+20            1\n",
      "        *  61 Cyg          23.1             2002 ...       1e+20            1\n",
      "              ...           ...              ... ...         ...          ...\n",
      "WDS J22468+4420AB          61.2             1895 ...       1e+20          400\n",
      "WDS J22468+4420AC          26.6             1998 ...       1e+20          401\n",
      "WDS J22468+4420AC          29.7             2002 ...       1e+20          401\n",
      "WDS J22468+4420AD           5.8             2005 ...       1e+20          402\n",
      "WDS J22468+4420AD           5.8             2005 ...       1e+20          402\n",
      "WDS J22468+4420AE           6.5             2005 ...       1e+20          403\n",
      "WDS J22468+4420AE           6.5             2005 ...       1e+20          403\n",
      "        Wolf  424           0.5             2023 ...       1e+20          419\n",
      "        Wolf  424           0.7             1938 ...       1e+20          419, 'h_link': <Table length=318>\n",
      "  parent_main_id   child_main_id   ... child_object_idref parent_object_idref\n",
      "                                   ...                                       \n",
      "      object           object      ...       int64               int64       \n",
      "----------------- ---------------- ... ------------------ -------------------\n",
      "        *  61 Cyg      *  61 Cyg A ...                  3                   1\n",
      "        *  61 Cyg      *  61 Cyg A ...                  3                   1\n",
      "        *  61 Cyg      *  61 Cyg B ...                  4                   1\n",
      "        *  61 Cyg      *  61 Cyg B ...                  4                   1\n",
      "        *  61 Cyg WDS J21069+3845C ...                364                   1\n",
      "        *  61 Cyg WDS J21069+3845D ...                365                   1\n",
      "        *  61 Cyg WDS J21069+3845E ...                366                   1\n",
      "        *  61 Cyg WDS J21069+3845F ...                367                   1\n",
      "        *  61 Cyg WDS J21069+3845G ...                368                   1\n",
      "              ...              ... ...                ...                 ...\n",
      "WDS J22468+4420AD WDS J22468+4420D ...                406                 402\n",
      "WDS J22468+4420AE        V* EV Lac ...                197                 403\n",
      "WDS J22468+4420AE WDS J22468+4420E ...                407                 403\n",
      "        Wolf  359       Wolf  359b ...                417                 416\n",
      "        Wolf  359       Wolf  359c ...                418                 416\n",
      "        Wolf  424      Wolf  424 A ...                420                 419\n",
      "        Wolf  424      Wolf  424 A ...                420                 419\n",
      "        Wolf  424      Wolf  424 B ...                421                 419\n",
      "        Wolf  424      Wolf  424 B ...                421                 419}\n"
     ]
    }
   ],
   "source": [
    "print(database_tables)#from create is a dict, from load is a list"
   ]
  },
  {
   "cell_type": "code",
   "execution_count": 6,
   "id": "2eb7b035-0438-4943-a2a1-edd3599b1cc2",
   "metadata": {
    "ExecuteTime": {
     "end_time": "2025-02-24T10:37:50.339313Z",
     "start_time": "2025-02-24T10:37:50.325254Z"
    }
   },
   "outputs": [
    {
     "name": "stdout",
     "output_type": "stream",
     "text": [
      "  main_id   sptype_string teff_st_qual   teff_st_value   teff_st_source_idref\n",
      "                                               K                             \n",
      "----------- ------------- ------------ ----------------- --------------------\n",
      "BD+00  4050         M0.0V            C            4119.0                  875\n",
      "BD+24  2733           M3V            C            4110.0                  875\n",
      "BD-13  1434           M0V            B   4269.0712890625                  874\n",
      "CD-26 11751            M1            C            4008.0                  875\n",
      "CD-34  1169             M            D            4250.0                  875\n",
      "CD-36  9107            M0            B 4095.856689453125                  874\n",
      "CD-49 14193           M0V            C            4059.0                  875\n",
      "  HD 166348           M0V            B    4235.400390625                  874\n",
      " HD 230017A           M0V            C            4084.0                  875\n",
      "  HD 330856            M1            C            4105.0                  875\n",
      "  HD 355784            M0            C            4348.0                  875\n",
      "  HD 356314            M0            B   4104.5791015625                  874\n",
      "  V* VZ Col           M0V            B 4000.154541015625                  874\n"
     ]
    }
   ],
   "source": [
    "import numpy as np\n",
    "#9=mesteff\n",
    "#5=starbasic\n",
    "#print(database_tables[5].colnames)\n",
    "cols=['main_id','sptype_string','teff_st_qual','teff_st_value','teff_st_source_idref']\n",
    "mstars=database_tables['star_basic'][cols][np.where(database_tables['star_basic']['class_temp']=='M')]\n",
    "mstars_tempgiven=mstars[np.where(mstars['teff_st_value']!=1e+20)]\n",
    "print(mstars_tempgiven[np.where(mstars_tempgiven['teff_st_value']>4000)])"
   ]
  },
  {
   "cell_type": "code",
   "execution_count": 11,
   "id": "8da2a21b-3685-482d-8c8f-111bb4f9aff9",
   "metadata": {
    "ExecuteTime": {
     "end_time": "2025-02-24T10:40:11.569624Z",
     "start_time": "2025-02-24T10:40:11.562669Z"
    }
   },
   "outputs": [
    {
     "name": "stdout",
     "output_type": "stream",
     "text": [
      "            ref              provider_name source_id\n",
      "---------------------------- ------------- ---------\n",
      "2022arXiv220800211G GSP-Phot          Gaia       874\n"
     ]
    }
   ],
   "source": [
    "print(database_tables['sources'][np.where(database_tables['sources']['source_id']==874)])"
   ]
  },
  {
   "cell_type": "code",
   "execution_count": 9,
   "id": "50ef6da7-d1fa-48e5-9e23-2206e1bc5a60",
   "metadata": {
    "ExecuteTime": {
     "end_time": "2025-02-24T10:39:35.302049Z",
     "start_time": "2025-02-24T10:39:35.291507Z"
    }
   },
   "outputs": [
    {
     "name": "stdout",
     "output_type": "stream",
     "text": [
      "teff_st_qual teff_st_value  teff_st_source_idref\n",
      "                   K                            \n",
      "------------ -------------- --------------------\n",
      "           C         3850.0                  465\n",
      "           B         4108.0                  875\n",
      "           B 4235.400390625                  874\n"
     ]
    }
   ],
   "source": [
    "import numpy as np\n",
    "#so lets find out if in gaia archive this is also the case\n",
    "#first find gaia id\n",
    "cols=['teff_st_qual','teff_st_value','teff_st_source_idref']\n",
    "\n",
    "print(database_tables['mes_teff_st'][cols][np.where(database_tables['mes_teff_st']['main_id']=='HD 166348')])\n",
    "#Gaia DR3 4848140361962951552\n",
    "\n",
    "#on archive only gspphot showable and it is empty"
   ]
  },
  {
   "cell_type": "code",
   "execution_count": 60,
   "id": "e7bb2087-3d6d-4f1a-9381-a729d1446b31",
   "metadata": {},
   "outputs": [
    {
     "name": "stdout",
     "output_type": "stream",
     "text": [
      "Trying to create Gaia tables from 2025-02-10...\n"
     ]
    }
   ],
   "source": [
    "from sdata import empty_dict\n",
    "from provider.utils import fetch_main_id, IdentifierCreator, fill_sources_table, create_sources_table, ids_from_ident, replace_value, create_provider_table, query\n",
    "from pyvo.dal import TAPService\n",
    "\n",
    "adql_query=\"\"\"\n",
    "    SELECT top 10 s.source_id ,p.mass_flame, p.radius_flame,\n",
    "        p.teff_gspphot, p.teff_gspspec, m.nss_solution_type, p.age_flame\n",
    "    FROM gaiadr3.gaia_source as s\n",
    "        JOIN gaiadr3.astrophysical_parameters as p ON s.source_id=p.source_id\n",
    "            LEFT JOIN gaiadr3.nss_two_body_orbit as m ON s.source_id=m.source_id\n",
    "            WHERE s.source_id = 4848140361962951552\"\"\"\n",
    "gaia = empty_dict.copy()\n",
    "gaia['provider'] = create_provider_table('Gaia',\n",
    "                                  \"https://gea.esac.esa.int/tap-server/tap\",\n",
    "                                  '2016A&A...595A...1G')\n",
    "try: \n",
    "    gaia_helptab=query(gaia['provider']['provider_url'][0],adql_query) \n",
    "\n",
    "except:\n",
    "    #because of bug in gaia server where async not working currently\n",
    "    service = TAPService(gaia['provider']['provider_url'][0])\n",
    "    result=service.run_sync(adql_query.format(**locals()), maxrec=160000)\n",
    "    gaia_helptab=result.to_table()\n"
   ]
  },
  {
   "cell_type": "code",
   "execution_count": 62,
   "id": "3bc59285-230d-4c75-8ed3-41c77d55f088",
   "metadata": {},
   "outputs": [
    {
     "name": "stdout",
     "output_type": "stream",
     "text": [
      "     source_id      teff_gspspec\n",
      "                         K      \n",
      "------------------- ------------\n",
      "4848140361962951552       4250.0\n"
     ]
    }
   ],
   "source": [
    "print(gaia_helptab['source_id','teff_gspspec'])"
   ]
  },
  {
   "cell_type": "code",
   "execution_count": null,
   "id": "0b96e3ff-0b1d-4af0-977c-2254e0e743c8",
   "metadata": {},
   "outputs": [],
   "source": [
    "#so yes that is how it is in gaia. now find out if this parameter is reliable and if not lower its quality"
   ]
  },
  {
   "cell_type": "code",
   "execution_count": null,
   "id": "99f8769f",
   "metadata": {},
   "outputs": [],
   "source": [
    "import utils.analysis as lta\n",
    "\n",
    "lta.sanity_tests(database_tables,5)"
   ]
  }
 ],
 "metadata": {
  "kernelspec": {
   "display_name": "Python 3 (ipykernel)",
   "language": "python",
   "name": "python3"
  },
  "language_info": {
   "codemirror_mode": {
    "name": "ipython",
    "version": 3
   },
   "file_extension": ".py",
   "mimetype": "text/x-python",
   "name": "python",
   "nbconvert_exporter": "python",
   "pygments_lexer": "ipython3",
   "version": "3.13.3"
  }
 },
 "nbformat": 4,
 "nbformat_minor": 5
}
