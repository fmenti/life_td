{
 "cells": [
  {
   "metadata": {},
   "cell_type": "markdown",
   "source": "# Active work in LIFE Target Database",
   "id": "c4b832179fb037d5"
  },
  {
   "metadata": {},
   "cell_type": "markdown",
   "source": "### distinct temp bug",
   "id": "8273c5f536c008fd"
  },
  {
   "metadata": {},
   "cell_type": "code",
   "outputs": [],
   "execution_count": null,
   "source": [
    "test_table=database_tables['star_basic']['sptype_string','teff_st_value','mass_st_value']\n",
    "print(test_table)\n"
   ],
   "id": "c60bb5f5f4cda320"
  },
  {
   "metadata": {},
   "cell_type": "code",
   "outputs": [],
   "execution_count": null,
   "source": [
    "import numpy as np\n",
    "zoom_in=test_table[np.where(test_table['teff_st_value']<3500)]\n",
    "zoom_in=zoom_in[np.where(zoom_in['teff_st_value']>3400)]\n",
    "print(zoom_in)"
   ],
   "id": "8e5e5e20e6a91472"
  },
  {
   "metadata": {},
   "cell_type": "code",
   "outputs": [],
   "execution_count": null,
   "source": [
    "print(test_table[np.where(test_table['teff_st_value']==3470)]\n",
    ")"
   ],
   "id": "aa4f226c9174cf7a"
  },
  {
   "metadata": {},
   "cell_type": "code",
   "outputs": [],
   "execution_count": null,
   "source": "",
   "id": "bb7bffebf4fe7887"
  },
  {
   "metadata": {},
   "cell_type": "markdown",
   "source": [
    "## starcat 4 stars that would be good to be in there\n",
    "\n",
    "Jonah: golden targets\n",
    "\n",
    "Felix: a lot fewer k and g stars in version 4 than version 3 catalog"
   ],
   "id": "4aac422640628fc2"
  },
  {
   "metadata": {
    "ExecuteTime": {
     "end_time": "2025-06-26T12:07:06.405731Z",
     "start_time": "2025-06-26T12:07:01.163129Z"
    }
   },
   "cell_type": "code",
   "source": [
    "from utils.analysis.object_analysis import starcat_versions_lost_stars\n",
    "lost_g_stars = starcat_versions_lost_stars()\n",
    "print(lost_g_stars)\n",
    "\n"
   ],
   "id": "c4afef555a369020",
   "outputs": [
    {
     "name": "stdout",
     "output_type": "stream",
     "text": [
      " main_id  \n",
      "----------\n",
      " *  20 LMi\n",
      " HD  82443\n",
      " HD 220140\n",
      " *  11 LMi\n",
      " *  15 LMi\n",
      " *  15 Sge\n",
      " *  18 Sco\n",
      " *  39 Tau\n",
      " *  47 UMa\n",
      " *  61 UMa\n",
      "       ...\n",
      " HD  69830\n",
      " HD 135204\n",
      " HD 157347\n",
      " HD 165185\n",
      " HD 172051\n",
      " HD 190771\n",
      " HD 207129\n",
      " HD 211415\n",
      "HD 222834A\n",
      " V* HN Peg\n",
      "Length = 36 rows\n"
     ]
    }
   ],
   "execution_count": 1
  },
  {
   "metadata": {},
   "cell_type": "code",
   "source": [
    "\n",
    "# quite a number fail because of wds companions not having all the parameters we need -> would be solved by using dedicated multiplicity catalog for those. though some of those should have sptype in simbad, why do I not get that?\n",
    "# - simbad object is not included... why not? create unit test for this to figure out\n",
    "# some have issue that system name and primary name are the same so I get systems without children"
   ],
   "id": "262df78388ed8446",
   "outputs": [],
   "execution_count": null
  },
  {
   "metadata": {
    "ExecuteTime": {
     "end_time": "2025-06-26T12:07:51.623773Z",
     "start_time": "2025-06-26T12:07:51.608819Z"
    }
   },
   "cell_type": "code",
   "source": [
    "# 1. have a first look at it\n",
    "\n",
    "from utils.analysis.object_analysis import detail_info_object\n",
    "\n",
    "starname='WDS J10114+4927B'#'*  11 LMi'\n",
    "detail_info_object(database_tables,starname)\n",
    "#wait, eta cas A is seen as system but does have stellar parameters...\n",
    "#why is not having a parent a reason for exclusion?"
   ],
   "id": "97b0b2ed6fa1e7c6",
   "outputs": [
    {
     "name": "stdout",
     "output_type": "stream",
     "text": [
      "\n",
      "Identifier \n",
      "       id            main_id      id_source_idref object_idref\n",
      "---------------- ---------------- --------------- ------------\n",
      "WDS J10114+4927B WDS J10114+4927B             197        18143\n",
      "\n",
      "Object type\n",
      "type\n",
      "----\n",
      "  st\n",
      "\n",
      " Basic stellar data\n",
      "    main_id      class_lum class_temp class_temp_nr\n",
      "---------------- --------- ---------- -------------\n",
      "WDS J10114+4927B         ?          ?             ?\n",
      "\n",
      "Parents\n",
      "  parent_main_id   child_main_id   ... child_object_idref parent_object_idref\n",
      "                                   ...                                       \n",
      "----------------- ---------------- ... ------------------ -------------------\n",
      "WDS J10114+4927AB WDS J10114+4927B ...              18143               18141\n",
      "\n",
      "Siblings\n",
      "  parent_main_id   child_main_id   ... child_object_idref parent_object_idref\n",
      "                                   ...                                       \n",
      "----------------- ---------------- ... ------------------ -------------------\n",
      "WDS J10114+4927AB        HD  88230 ...               8306               18141\n",
      "WDS J10114+4927AB WDS J10114+4927B ...              18143               18141\n",
      "\n",
      "Sibling's properties\n",
      "    main_id      class_lum class_temp class_temp_nr\n",
      "---------------- --------- ---------- -------------\n",
      "WDS J10114+4927B         ?          ?             ?\n"
     ]
    }
   ],
   "execution_count": 3
  },
  {
   "metadata": {},
   "cell_type": "markdown",
   "source": "\n",
   "id": "47f8f3117e67f7a6"
  },
  {
   "metadata": {
    "ExecuteTime": {
     "end_time": "2025-06-26T12:08:03.721040Z",
     "start_time": "2025-06-26T12:08:03.321783Z"
    }
   },
   "cell_type": "code",
   "source": [
    "# 2. run the code specifically made to find out reason\n",
    "\n",
    "import importlib\n",
    "#refactured code: -> seems to be working\n",
    "#now trying to print out and / or store as list exactly objects that lead to exclusion e.g. children\n",
    "#hm I guess I would like to have a reference to which catalog\n",
    "#   I used to assicn the type of the object (gaia, wds, simbad)\n",
    "import utils.analysis.catalog_comparison as cc\n",
    "importlib.reload(cc)\n",
    "\n",
    "# list given by jonah\n",
    "l_golden_targets=['* alf Cen A','* alf Cen B','* alf Cen C','NAME Teegarden\\'s Star','* tau Cet','* eps Eri','* eps Ind','HD  88230','* omi02 Eri','* sig Dra','HD 131977','* eta Cas A','* eta Cas B','TRAPPIST-1']\n",
    "# list given by felix lost_g_stars\n",
    "\n",
    "cc.detail_criteria(database_tables,list(lost_g_stars))"
   ],
   "id": "176f4d4eb1f2c67c",
   "outputs": [
    {
     "name": "stdout",
     "output_type": "stream",
     "text": [
      "tbd: file starcat4 analysis where this code is used to give specific reason why a given object was not included into the cat4\n",
      "system object but with found child object *  20 LMi\n",
      "child_main_id\n",
      "-------------\n",
      "   HD  86728b\n",
      "system object but with found child object HD  82443\n",
      "      child_main_id      \n",
      "-------------------------\n",
      "sdb-v2-093243.76+265918.7\n",
      "star's parents\n",
      "  parent_main_id  child_main_id ... child_object_idref parent_object_idref\n",
      "                                ...                                       \n",
      "----------------- ------------- ... ------------------ -------------------\n",
      "WDS J23194+7900AB     HD 220140 ...               9461               21344\n",
      "WDS J23194+7900AC     HD 220140 ...               9461               21345\n",
      "WDS J23194+7900AD     HD 220140 ...               9461               21346\n",
      "WDS J23194+7900AE     HD 220140 ...               9461               21347\n",
      "star's parents\n",
      "  parent_main_id  child_main_id ... child_object_idref parent_object_idref\n",
      "                                ...                                       \n",
      "----------------- ------------- ... ------------------ -------------------\n",
      "WDS J20041+1704AB     *  15 Sge ...                 38               20635\n",
      "WDS J20041+1704AC     *  15 Sge ...                 38               20636\n",
      "WDS J20041+1704AD     *  15 Sge ...                 38               20637\n",
      "WDS J20041+1704AE     *  15 Sge ...                 38               20638\n",
      "WDS J20041+1704AF     *  15 Sge ...                 38               20639\n",
      "WDS J20041+1704AI     *  15 Sge ...                 38               20640\n",
      "WDS J20041+1704AJ     *  15 Sge ...                 38               20641\n",
      "WDS J20041+1704AK     *  15 Sge ...                 38               20642\n",
      "WDS J20041+1704AL     *  15 Sge ...                 38               20643\n",
      "system object but with found child object *  39 Tau\n",
      "  child_main_id  \n",
      "-----------------\n",
      "WDS J04053+2201Aa\n",
      "WDS J04053+2201Ab\n",
      "system object but with found child object *  47 UMa\n",
      "child_main_id\n",
      "-------------\n",
      "  *  47 UMa b\n",
      "  *  47 UMa c\n",
      "  *  47 UMa d\n",
      "star's parents\n",
      "  parent_main_id  child_main_id ... child_object_idref parent_object_idref\n",
      "                                ...                                       \n",
      "----------------- ------------- ... ------------------ -------------------\n",
      "WDS J13284+1347AB     *  70 Vir ...                155               18768\n",
      "WDS J13284+1347AC     *  70 Vir ...                155               18769\n",
      "WDS J13284+1347AD     *  70 Vir ...                155               18770\n",
      "WDS J13284+1347AE     *  70 Vir ...                155               18771\n",
      "star's parents\n",
      "   parent_main_id    child_main_id ... child_object_idref parent_object_idref\n",
      "                                   ...                                       \n",
      "-------------------- ------------- ... ------------------ -------------------\n",
      "   WDS J13168+0925AB       * e Vir ...                338               18717\n",
      "WDS J13168+0925Aa,Ab       * e Vir ...                338               18718\n",
      "star's parents\n",
      "  parent_main_id  child_main_id ... child_object_idref parent_object_idref\n",
      "                                ...                                       \n",
      "----------------- ------------- ... ------------------ -------------------\n",
      "WDS J15440+0231AB     * psi Ser ...                578               19124\n",
      "WDS J15440+0231AC     * psi Ser ...                578               19125\n",
      "WDS J15440+0231AD     * psi Ser ...                578               19126\n",
      "star's parents\n",
      "  parent_main_id  child_main_id ... child_object_idref parent_object_idref\n",
      "                                ...                                       \n",
      "----------------- ------------- ... ------------------ -------------------\n",
      "WDS J17207+3228AB       * w Her ...                683               19447\n",
      "WDS J17207+3228AD       * w Her ...                683               19448\n",
      "WDS J17207+3228AE       * w Her ...                683               19449\n",
      "WDS J17207+3228AF       * w Her ...                683               19450\n",
      "star's parents\n",
      "   parent_main_id   child_main_id ... child_object_idref parent_object_idref\n",
      "                                  ...                                       \n",
      "------------------- ------------- ... ------------------ -------------------\n",
      "WDS J00066+2901A,CD     HD    166 ...               7521               16335\n",
      "  WDS J00066+2901AB     HD    166 ...               7521               16336\n",
      "  WDS J00066+2901AE     HD    166 ...               7521               16337\n",
      "system object but with found child object HD  26347\n",
      " child_main_id  \n",
      "----------------\n",
      "WDS J04093-2025A\n",
      "WDS J04093-2025B\n",
      "star's parents\n",
      "  parent_main_id  child_main_id ... child_object_idref parent_object_idref\n",
      "                                ...                                       \n",
      "----------------- ------------- ... ------------------ -------------------\n",
      "WDS J08184-1238AB     HD  69830 ...               8194               17871\n",
      "WDS J08184-1238AC     HD  69830 ...               8194               17872\n",
      "star's parents\n",
      "   parent_main_id   child_main_id ... child_object_idref parent_object_idref\n",
      "                                  ...                                       \n",
      "------------------- ------------- ... ------------------ -------------------\n",
      "WDS J18064-3601A,Ta     HD 165185 ...               8999               19613\n",
      "WDS J18064-3601A,Tb     HD 165185 ...               8999               19614\n",
      "WDS J18064-3601A,Tc     HD 165185 ...               8999               19615\n",
      "WDS J18064-3601A,Td     HD 165185 ...               8999               19616\n",
      "WDS J18064-3601A,Te     HD 165185 ...               8999               19617\n",
      "WDS J18064-3601A,Tf     HD 165185 ...               8999               19618\n",
      "WDS J18064-3601A,Tg     HD 165185 ...               8999               19619\n",
      "WDS J18064-3601A,Th     HD 165185 ...               8999               19620\n",
      "WDS J18064-3601A,Ti     HD 165185 ...               8999               19621\n",
      "                ...           ... ...                ...                 ...\n",
      "  WDS J18064-3601AJ     HD 165185 ...               8999               19766\n",
      "  WDS J18064-3601AK     HD 165185 ...               8999               19767\n",
      "  WDS J18064-3601AL     HD 165185 ...               8999               19768\n",
      "  WDS J18064-3601AM     HD 165185 ...               8999               19769\n",
      "  WDS J18064-3601AN     HD 165185 ...               8999               19770\n",
      "  WDS J18064-3601AO     HD 165185 ...               8999               19771\n",
      "  WDS J18064-3601AP     HD 165185 ...               8999               19772\n",
      "  WDS J18064-3601AQ     HD 165185 ...               8999               19773\n",
      "  WDS J18064-3601AR     HD 165185 ...               8999               19774\n",
      "  WDS J18064-3601AS     HD 165185 ...               8999               19775\n",
      "Length = 163 rows\n",
      "star's parents\n",
      "  parent_main_id  child_main_id ... child_object_idref parent_object_idref\n",
      "                                ...                                       \n",
      "----------------- ------------- ... ------------------ -------------------\n",
      "WDS J20052+3829AB     HD 190771 ...               9188               20658\n",
      "WDS J20052+3829AC     HD 190771 ...               9188               20659\n",
      "WDS J20052+3829AD     HD 190771 ...               9188               20660\n",
      "WDS J20052+3829AE     HD 190771 ...               9188               20661\n",
      "star's parents\n",
      "  parent_main_id  child_main_id ... child_object_idref parent_object_idref\n",
      "                                ...                                       \n",
      "----------------- ------------- ... ------------------ -------------------\n",
      "WDS J21445+1446AB     V* HN Peg ...              16210               20995\n",
      "WDS J21445+1446AC     V* HN Peg ...              16210               20996\n",
      "\n",
      " \n",
      " Of the 36 objects given:\n",
      "Some are not in cat 4 because they are either:\n",
      "system_without_child ['*  11 LMi', '*  15 LMi', '* iot Per', 'HD  52711'] 4\n",
      "star_without_parent ['* m Tau', 'HD 135204', 'HD 172051'] 3\n",
      "not found ['CD-38 13254', 'HD 222834A'] \n",
      "\n",
      "Some were not included because they are systems and instead one should look at their child objects:\n",
      "children ['HD  86728b', 'sdb-v2-093243.76+265918.7', 'WDS J04053+2201Aa', 'WDS J04053+2201Ab', '*  47 UMa b', '*  47 UMa c', '*  47 UMa d', 'WDS J04093-2025A', 'WDS J04093-2025B'] \n",
      "\n",
      "some are non trivial binaries:\n",
      "multiple parents ['HD 220140', '*  15 Sge', '*  70 Vir', '* e Vir', '* psi Ser', '* w Her', 'HD    166', 'HD  69830', 'HD 165185', 'HD 190771', 'V* HN Peg'] 11\n",
      "higher_order_multiple [] 0 \n",
      "\n",
      "siblings [['*  18 Sco', 'WDS J16156-0822B'], ['*  61 UMa', 'WDS J11411+3412B'], ['*  61 Vir', 'WDS J13184-1819B'], ['* alf Men', '* alf Men B'], ['* kap01 Cet', 'WDS J03194+0322B'], ['* rho CrB', 'WDS J16010+3318B'], ['* tau Cet', 'WDS J01441-1556B'], ['HD  53143', 'WDS J07000-6120B'], ['HD 157347', 'WDS J17229-0223B'], ['HD 207129', 'WDS J21483-4718B'], ['HD 211415', 'HD 211415B']]\n",
      "And the reminder have conpanions that don t fit the spectral type requirements\n",
      "trivial binary ['*  18 Sco', '*  61 UMa', '*  61 Vir', '* alf Men', '* kap01 Cet', '* rho CrB', '* tau Cet', 'HD  53143', 'HD 157347', 'HD 207129', 'HD 211415'] 11\n"
     ]
    }
   ],
   "execution_count": 4
  },
  {
   "metadata": {},
   "cell_type": "markdown",
   "source": "### issue non physical multiples",
   "id": "ddcad5c72b6e49d4"
  },
  {
   "metadata": {},
   "cell_type": "markdown",
   "source": "### issue out of distance cut h_link\n",
   "id": "44dcd8b9fa962fb1"
  },
  {
   "metadata": {},
   "cell_type": "code",
   "source": [
    "distance_cut_in_pc = 30.\n",
    "plx_in_mas_cut = 1000. / distance_cut_in_pc\n",
    "print(plx_in_mas_cut)\n",
    "#making cut a bit bigger for correct treatment of objects on boundary\n",
    "plx_cut = plx_in_mas_cut - plx_in_mas_cut / 10.\n",
    "print(plx_cut)\n",
    "#something is wrong or is it just that 30 pc gives a strange result?, yes 30 pc is mathematically strange"
   ],
   "id": "9f4c7f57bbfc7f83",
   "outputs": [],
   "execution_count": null
  },
  {
   "metadata": {},
   "cell_type": "code",
   "outputs": [],
   "execution_count": null,
   "source": [
    " # hm WDS J10114+4927B seems to have a way too small plx to be in our sample. so is just visual binary from wds\n",
    "    # how do I incorporate this knowledge into my db? if I have this object in my db I should include its plx too\n",
    "    # if I kick it out I should indicate that sibling is actually single star\n",
    "    # ... maybe in life provider take the wds objects, fetch main_id, get simbad stuff for them,\n",
    "    # run specific multiplicity catalog over them, adapt binary & h-link stuff\n",
    "    # sounds more like something that should be done in wds provider.\n",
    "    # right when creating the helpertable\n",
    "    # like as soon as I have an id I should also query the plx\n",
    "    # make a list of those whose plx are given but outside our cutoff\n",
    "    # make a list of their associated objects\n",
    "    # or right after running wds I take all objects of type sy and run a new provider with better\n",
    "    # next idea:\n",
    "    # at end of life provider (which should run last) get all possible plx and clean out objects that are too far out. give hosts and siblings special treatment e.g. a flag\n",
    "\n"
   ],
   "id": "76f59959ac299394"
  },
  {
   "metadata": {},
   "cell_type": "code",
   "outputs": [],
   "execution_count": null,
   "source": [
    "from provider.simbad import *\n",
    "from astropy.table import Table\n",
    "\n",
    "\n",
    "def test_wds_nonphysical_multiples():\n",
    "    # data\n",
    "    distance_cut_in_pc = 30.\n",
    "    test_objects = ['WDS J10114+4927B']\n",
    "    cat = Table(data=[['WDS J10114+4927B'],['HD 233714']],\n",
    "                names=['id','main_id'],\n",
    "                dtype=[object,object])\n",
    "    # hm WDS J10114+4927B seems to have a way too small plx to be in our sample. so is just visual binary from wds\n",
    "    # how do I incorporate this knowledge into my db? if I have this object in my db I should include its plx too\n",
    "    # if I kick it out I should indicate that sibling is actually single star\n",
    "    # ... maybe in life provider take the wds objects, fetch main_id, get simbad stuff for them,\n",
    "    # run specific multiplicity catalog over them, adapt binary & h-link stuff\n",
    "\n",
    "    # get main id of test objects\n",
    "    fetch_main_id(cat, id_creator = IdentifierCreator(name='main_id', colname='id'))\n",
    "\n",
    "    # function (problem, this is more of an integration test but the function\n",
    "    #  is written in a way to enable easy exploration testing)\n",
    "    sim_helptab, sim = create_simbad_helpertable(distance_cut_in_pc, test_objects)\n",
    "\n",
    "    # assert"
   ],
   "id": "6eb27703f14bf37a"
  },
  {
   "metadata": {},
   "cell_type": "code",
   "source": [
    "\n",
    "\n",
    "\n",
    "#'* 212 Pup A' kicked out in non trivial binaries in starcat but in this code as trivial binary with companion not matching sptype\n",
    "#['* zet01 Ret', '*  50 Per', 'HD  50281', 'HD  65907', '* eps Ind', 'V* V2215 Oph'] other way round"
   ],
   "id": "d3598cbc6bdf162e",
   "outputs": [],
   "execution_count": null
  },
  {
   "metadata": {},
   "cell_type": "markdown",
   "source": "# database creation",
   "id": "43f297f503c7af45"
  },
  {
   "metadata": {},
   "cell_type": "code",
   "source": [
    "import importlib #reloading external functions after modification\n",
    "\n",
    "#self created modules\n",
    "import life_td as ltd\n",
    "importlib.reload(ltd)#reload module after changing it\n",
    "\n",
    "#provider_tables_dict, database_tables= ltd.partial_create(30,create=['life'])\n",
    "\n",
    "provider_tables_dict, database_tables= ltd.create_life_td(30)\n",
    "\n",
    "#issue: does not wokr with loading as then id_source_idref already exists -> put in a workaround with a warning. though now did not happen...\n",
    "\n",
    "#issue: create not working right now because exomercat server not available -> put in a workaround\n",
    "#issue: main_id missing in star_basic -> suddenly working??\n",
    "\n",
    "#vizier not working? -> do tests first -> issue on topcat too -> solved"
   ],
   "id": "bb806477fdbd6ca3",
   "outputs": [],
   "execution_count": null
  },
  {
   "metadata": {},
   "cell_type": "markdown",
   "source": "# load and analyze database",
   "id": "5a51a0c8016eb154"
  },
  {
   "metadata": {
    "ExecuteTime": {
     "end_time": "2025-06-26T12:07:42.111118Z",
     "start_time": "2025-06-26T12:07:38.198302Z"
    }
   },
   "cell_type": "code",
   "source": [
    "import importlib #reloading external functions after modification\n",
    "\n",
    "#self created modules\n",
    "import life_td as ltd\n",
    "importlib.reload(ltd)#reload module after changing it\n",
    "\n",
    "provider_tables_dict, database_tables= ltd.load_life_td()\n",
    "\n",
    "#ah when it showed me an empty area in wds.py it actually didn't load it correctly. when I then cleaned it out it introduced an error. need to uncommit the minor fixes commit and then unstack that file"
   ],
   "id": "57cd4e706be11eff",
   "outputs": [
    {
     "name": "stdout",
     "output_type": "stream",
     "text": [
      "Loading life_td generated data\n",
      "Loading sim data\n",
      "Loading sdb data\n",
      "Loading wds data\n",
      "Loading exo data\n",
      "Loading life data\n",
      "Loading gaia data\n"
     ]
    }
   ],
   "execution_count": 2
  },
  {
   "metadata": {},
   "cell_type": "markdown",
   "source": [
    "## gaia quality flags assignment\n",
    "\n",
    "Bug: Finding issue that causes M0-M5 stars to have too high temperatures (4250 instead of 3000).\n",
    "\n",
    "Status: I think I partially solved it by coding part of gsp-spec to include quality flags. doesn't seem to work correctly yet and phot quality not taken into account yet"
   ],
   "id": "be0936e6a7661a3b"
  },
  {
   "metadata": {
    "ExecuteTime": {
     "end_time": "2025-06-26T12:52:01.279584Z",
     "start_time": "2025-06-26T12:52:01.271985Z"
    }
   },
   "cell_type": "code",
   "source": [
    "import numpy as np\n",
    "#9=mesteff\n",
    "#5=starbasic\n",
    "#print(database_tables[5].colnames)\n",
    "cols=['main_id','sptype_string','teff_st_qual','teff_st_value','teff_st_source_idref']\n",
    "mstars=database_tables['star_basic'][cols][np.where(database_tables['star_basic']['class_temp']=='M')]\n",
    "mstars_tempgiven=mstars[np.where(mstars['teff_st_value']!=1e+20)]\n",
    "interesting_sample=mstars_tempgiven[np.where(mstars_tempgiven['teff_st_value']>4000)]\n",
    "print(interesting_sample)\n",
    "# shows that I do have a couple of M stars with unlikely high temperatures"
   ],
   "id": "c8a33f15a37eed8f",
   "outputs": [
    {
     "name": "stdout",
     "output_type": "stream",
     "text": [
      "  main_id   sptype_string teff_st_qual   teff_st_value   teff_st_source_idref\n",
      "                                               K                             \n",
      "----------- ------------- ------------ ----------------- --------------------\n",
      "BD-13  1434           M0V            B   4269.0712890625                  878\n",
      "BD-22  6219           M0V            C            4157.0                  879\n",
      "CD-26 11751            M1            C            4008.0                  879\n",
      "CD-34  1169             M            D            4250.0                  879\n",
      "CD-36  9107            M0            B 4095.856689453125                  878\n",
      "CD-49 14193           M0V            C            4059.0                  879\n",
      "  HD 166348           M0V            B    4235.400390625                  878\n",
      "  HD 288595            M0            C            4096.0                  879\n",
      "  HD 330856            M1            C            4105.0                  879\n",
      "  HD 356314            M0            B   4104.5791015625                  878\n",
      "V* V430 Pup            M0            C            4075.0                  879\n",
      "  V* VZ Col           M0V            B 4000.154541015625                  878\n"
     ]
    }
   ],
   "execution_count": 28
  },
  {
   "metadata": {
    "ExecuteTime": {
     "end_time": "2025-06-26T12:52:01.317593Z",
     "start_time": "2025-06-26T12:52:01.313820Z"
    }
   },
   "cell_type": "code",
   "source": [
    "#source_id = interesting_sample['teff_st_source_idref'][0] # GAIA GSP-Phot\n",
    "source_id = interesting_sample['teff_st_source_idref'][1] # GAIA GSP-Spec\n",
    "print(database_tables['sources'][np.where(database_tables['sources']['source_id']==source_id)])\n",
    "# shows that source is gaia"
   ],
   "id": "6f55266d33eaa9fe",
   "outputs": [
    {
     "name": "stdout",
     "output_type": "stream",
     "text": [
      "            ref              provider_name source_id\n",
      "---------------------------- ------------- ---------\n",
      "2022arXiv220800211G GSP-Spec          Gaia       879\n"
     ]
    }
   ],
   "execution_count": 29
  },
  {
   "metadata": {
    "ExecuteTime": {
     "end_time": "2025-06-26T12:52:01.391702Z",
     "start_time": "2025-06-26T12:52:01.385862Z"
    }
   },
   "cell_type": "code",
   "source": [
    "import numpy as np\n",
    "# finding out, if it is in gaia provider right or if there is an issue when building db together\n",
    "\n",
    "cols=['teff_st_qual','teff_st_value','teff_st_source_idref']\n",
    "\n",
    "print(database_tables['mes_teff_st'][cols][np.where(database_tables['mes_teff_st']['main_id']=='HD 166348')])\n"
   ],
   "id": "a86ff94a2a1b7a15",
   "outputs": [
    {
     "name": "stdout",
     "output_type": "stream",
     "text": [
      "teff_st_qual teff_st_value  teff_st_source_idref\n",
      "                   K                            \n",
      "------------ -------------- --------------------\n",
      "           C         3850.0                  468\n",
      "           B         4108.0                  879\n",
      "           B 4235.400390625                  878\n"
     ]
    }
   ],
   "execution_count": 30
  },
  {
   "metadata": {
    "ExecuteTime": {
     "end_time": "2025-06-26T12:52:03.221547Z",
     "start_time": "2025-06-26T12:52:01.457089Z"
    }
   },
   "cell_type": "code",
   "source": [
    "from sdata import empty_dict\n",
    "from provider.utils import fetch_main_id, IdentifierCreator, create_provider_table, query\n",
    "from pyvo.dal import TAPService\n",
    "\n",
    "adql_query=\"\"\"\n",
    "    SELECT top 10 s.source_id ,p.mass_flame, p.radius_flame,\n",
    "        p.teff_gspphot, p.teff_gspspec, m.nss_solution_type, p.age_flame, p.flags_gspspec\n",
    "    FROM gaiadr3.gaia_source as s\n",
    "        JOIN gaiadr3.astrophysical_parameters as p ON s.source_id=p.source_id\n",
    "            LEFT JOIN gaiadr3.nss_two_body_orbit as m ON s.source_id=m.source_id\n",
    "            WHERE s.source_id = 4848140361962951552\"\"\"\n",
    "gaia = empty_dict.copy()\n",
    "gaia['provider'] = create_provider_table('Gaia',\n",
    "                                  \"https://gea.esac.esa.int/tap-server/tap\",\n",
    "                                  '2016A&A...595A...1G')\n",
    "try:\n",
    "    gaia_helptab=query(gaia['provider']['provider_url'][0],adql_query)\n",
    "\n",
    "except:\n",
    "    #because of bug in gaia server where async not working currently\n",
    "    service = TAPService(gaia['provider']['provider_url'][0])\n",
    "    result=service.run_sync(adql_query.format(**locals()), maxrec=160000)\n",
    "    gaia_helptab=result.to_table()\n"
   ],
   "id": "9bde020b4921ee81",
   "outputs": [
    {
     "name": "stdout",
     "output_type": "stream",
     "text": [
      "Trying to create Gaia tables from 2025-06-26...\n"
     ]
    }
   ],
   "execution_count": 31
  },
  {
   "metadata": {
    "ExecuteTime": {
     "end_time": "2025-06-26T12:52:03.249049Z",
     "start_time": "2025-06-26T12:52:03.247302Z"
    }
   },
   "cell_type": "code",
   "source": [
    "#so lets find out if in gaia archive this is also the case\n",
    "# find gaia id\n",
    "#Gaia DR3 4848140361962951552\n",
    "\n",
    "#on archive only gspphot showable and it is empty"
   ],
   "id": "a1577c6dbc283ce5",
   "outputs": [],
   "execution_count": 32
  },
  {
   "metadata": {
    "ExecuteTime": {
     "end_time": "2025-06-26T12:52:03.310378Z",
     "start_time": "2025-06-26T12:52:03.307998Z"
    }
   },
   "cell_type": "code",
   "source": "print(gaia_helptab['source_id','teff_gspspec'])",
   "id": "5ea4007677b7f1f9",
   "outputs": [
    {
     "name": "stdout",
     "output_type": "stream",
     "text": [
      "     source_id      teff_gspspec\n",
      "                         K      \n",
      "------------------- ------------\n",
      "4848140361962951552       4250.0\n"
     ]
    }
   ],
   "execution_count": 33
  },
  {
   "metadata": {
    "ExecuteTime": {
     "end_time": "2025-06-26T12:52:03.377446Z",
     "start_time": "2025-06-26T12:52:03.375771Z"
    }
   },
   "cell_type": "code",
   "source": "#so yes that is how it is in gaia. now find out if this parameter is reliable and if not lower its quality",
   "id": "63813166b9443371",
   "outputs": [],
   "execution_count": 34
  },
  {
   "metadata": {
    "ExecuteTime": {
     "end_time": "2025-06-26T12:52:03.439607Z",
     "start_time": "2025-06-26T12:52:03.436935Z"
    }
   },
   "cell_type": "code",
   "source": [
    "# so I did add a quality assignment for spec, those should be lower quality now sometimes\n",
    "# is the case in star_basic of dtabase_tables\n",
    "print(interesting_sample[np.where(interesting_sample['teff_st_source_idref']==source_id)])"
   ],
   "id": "4790839f362fb8b7",
   "outputs": [
    {
     "name": "stdout",
     "output_type": "stream",
     "text": [
      "  main_id   sptype_string teff_st_qual teff_st_value teff_st_source_idref\n",
      "                                             K                           \n",
      "----------- ------------- ------------ ------------- --------------------\n",
      "BD-22  6219           M0V            C        4157.0                  879\n",
      "CD-26 11751            M1            C        4008.0                  879\n",
      "CD-34  1169             M            D        4250.0                  879\n",
      "CD-49 14193           M0V            C        4059.0                  879\n",
      "  HD 288595            M0            C        4096.0                  879\n",
      "  HD 330856            M1            C        4105.0                  879\n",
      "V* V430 Pup            M0            C        4075.0                  879\n"
     ]
    }
   ],
   "execution_count": 35
  },
  {
   "metadata": {
    "ExecuteTime": {
     "end_time": "2025-06-26T12:52:03.501290Z",
     "start_time": "2025-06-26T12:52:03.498327Z"
    }
   },
   "cell_type": "code",
   "source": [
    "# how about mes_teff_st table?\n",
    "\n",
    "print(database_tables['mes_teff_st'][cols][np.where(database_tables['mes_teff_st']['main_id']=='HD 166348')])\n",
    "# does not seem to be lower quality,\n",
    "# either its quality flag is especially good or it did not get updated in the mes table\n"
   ],
   "id": "b02a17988ada869f",
   "outputs": [
    {
     "name": "stdout",
     "output_type": "stream",
     "text": [
      "teff_st_qual teff_st_value  teff_st_source_idref\n",
      "                   K                            \n",
      "------------ -------------- --------------------\n",
      "           C         3850.0                  468\n",
      "           B         4108.0                  879\n",
      "           B 4235.400390625                  878\n"
     ]
    }
   ],
   "execution_count": 36
  },
  {
   "metadata": {
    "ExecuteTime": {
     "end_time": "2025-06-26T12:52:03.566046Z",
     "start_time": "2025-06-26T12:52:03.564123Z"
    }
   },
   "cell_type": "code",
   "source": [
    "# check quality flag of this object gsp-spec\n",
    "# do I have the quality flag still in mes table? no\n",
    "print(database_tables['mes_teff_st'].colnames)"
   ],
   "id": "39032c15ded43b34",
   "outputs": [
    {
     "name": "stdout",
     "output_type": "stream",
     "text": [
      "['main_id', 'teff_st_value', 'teff_st_qual', 'teff_st_ref', 'teff_st_source_idref', 'teff_st_err', 'object_idref']\n"
     ]
    }
   ],
   "execution_count": 37
  },
  {
   "metadata": {
    "ExecuteTime": {
     "end_time": "2025-06-26T12:52:03.626477Z",
     "start_time": "2025-06-26T12:52:03.624471Z"
    }
   },
   "cell_type": "code",
   "source": [
    "# take it directly from specific gaia query\n",
    "print(gaia_helptab['flags_gspspec'])"
   ],
   "id": "5b68a2a044c48afc",
   "outputs": [
    {
     "name": "stdout",
     "output_type": "stream",
     "text": [
      "              flags_gspspec              \n",
      "-----------------------------------------\n",
      "00100131000019999999999999999999999999999\n"
     ]
    }
   ],
   "execution_count": 38
  },
  {
   "metadata": {
    "ExecuteTime": {
     "end_time": "2025-06-26T12:52:03.698749Z",
     "start_time": "2025-06-26T12:52:03.696188Z"
    }
   },
   "cell_type": "code",
   "source": [
    "flag=gaia_helptab['flags_gspspec'][0]\n",
    "summed=0\n",
    "interval = 41 * 9 / 5.\n",
    "for i in flag:\n",
    "    summed += int(i)\n",
    "print(summed)\n",
    "\n",
    "if summed in range(0, int(interval) + 1):\n",
    "    print('A')\n",
    "elif summed in range(int(interval) + 1, int(interval * 2) + 1):\n",
    "    print('B')\n",
    "elif summed in range(int(interval * 2) + 1, int(interval * 3) + 1):\n",
    "    print('C')\n",
    "elif summed in range(int(interval * 3) + 1, int(interval * 4) + 1):\n",
    "    print('D')\n",
    "elif summed in range(int(interval * 4) + 1, int(interval * 5) + 1):\n",
    "    print('E')\n",
    "\n",
    "# so it looks like should be low quality and value in mes_teff_st is wrong"
   ],
   "id": "aad876f24b796e12",
   "outputs": [
    {
     "name": "stdout",
     "output_type": "stream",
     "text": [
      "259\n",
      "D\n"
     ]
    }
   ],
   "execution_count": 39
  },
  {
   "metadata": {
    "ExecuteTime": {
     "end_time": "2025-06-26T13:05:35.873011Z",
     "start_time": "2025-06-26T13:05:35.869547Z"
    }
   },
   "cell_type": "code",
   "source": [
    "# lets test if in the gaia provider is correct in mes_teff_st\n",
    "name='HD 166348'\n",
    "print(provider_tables_dict['gaia']['mes_teff_st'][np.where(provider_tables_dict['gaia']['mes_teff_st']['main_id']==name)])\n",
    "# shows is there quality of B too instead of D"
   ],
   "id": "ed5ad60009d9289f",
   "outputs": [
    {
     "name": "stdout",
     "output_type": "stream",
     "text": [
      " main_id  teff_st_value teff_st_qual         teff_st_ref         \n",
      "                K                                                \n",
      "--------- ------------- ------------ ----------------------------\n",
      "HD 166348     4235.4004            B 2022arXiv220800211G GSP-Phot\n",
      "HD 166348        4108.0            B 2022arXiv220800211G GSP-Spec\n"
     ]
    }
   ],
   "execution_count": 48
  },
  {
   "metadata": {
    "ExecuteTime": {
     "end_time": "2025-06-26T12:52:03.834721Z",
     "start_time": "2025-06-26T12:52:03.833092Z"
    }
   },
   "cell_type": "code",
   "source": [
    "# go to gaia file and find line where should get lowered. then create some unit tests for it -> line 174\n",
    "# the assign quality unit test works with this data too so now find line where it gets written into mes_teff\n",
    "# maybe 150 function creating teff_st -> created test for it\n",
    "# now most likely integration test for whole gaia needed"
   ],
   "id": "a314cd76002bf360",
   "outputs": [],
   "execution_count": 41
  },
  {
   "metadata": {
    "ExecuteTime": {
     "end_time": "2025-06-26T12:52:03.896380Z",
     "start_time": "2025-06-26T12:52:03.894545Z"
    }
   },
   "cell_type": "code",
   "source": "# how about phot?",
   "id": "fc1c32787eee3b3b",
   "outputs": [],
   "execution_count": 42
  },
  {
   "metadata": {
    "ExecuteTime": {
     "end_time": "2025-06-26T12:52:03.973926Z",
     "start_time": "2025-06-26T12:52:03.967425Z"
    }
   },
   "cell_type": "code",
   "source": [
    "import utils.analysis as lta\n",
    "\n",
    "lta.sanity_tests(database_tables,5)"
   ],
   "id": "eac64433b427313a",
   "outputs": [
    {
     "ename": "AttributeError",
     "evalue": "module 'utils.analysis' has no attribute 'sanity_tests'",
     "output_type": "error",
     "traceback": [
      "\u001B[0;31m---------------------------------------------------------------------------\u001B[0m",
      "\u001B[0;31mAttributeError\u001B[0m                            Traceback (most recent call last)",
      "Cell \u001B[0;32mIn[43], line 3\u001B[0m\n\u001B[1;32m      1\u001B[0m \u001B[38;5;28;01mimport\u001B[39;00m\u001B[38;5;250m \u001B[39m\u001B[38;5;21;01mutils\u001B[39;00m\u001B[38;5;21;01m.\u001B[39;00m\u001B[38;5;21;01manalysis\u001B[39;00m\u001B[38;5;250m \u001B[39m\u001B[38;5;28;01mas\u001B[39;00m\u001B[38;5;250m \u001B[39m\u001B[38;5;21;01mlta\u001B[39;00m\n\u001B[0;32m----> 3\u001B[0m \u001B[43mlta\u001B[49m\u001B[38;5;241;43m.\u001B[39;49m\u001B[43msanity_tests\u001B[49m(database_tables,\u001B[38;5;241m5\u001B[39m)\n",
      "\u001B[0;31mAttributeError\u001B[0m: module 'utils.analysis' has no attribute 'sanity_tests'"
     ]
    }
   ],
   "execution_count": 43
  }
 ],
 "metadata": {
  "kernelspec": {
   "display_name": "Python 3 (ipykernel)",
   "language": "python",
   "name": "python3"
  },
  "language_info": {
   "codemirror_mode": {
    "name": "ipython",
    "version": 3
   },
   "file_extension": ".py",
   "mimetype": "text/x-python",
   "name": "python",
   "nbconvert_exporter": "python",
   "pygments_lexer": "ipython3",
   "version": "3.13.3"
  }
 },
 "nbformat": 4,
 "nbformat_minor": 5
}
