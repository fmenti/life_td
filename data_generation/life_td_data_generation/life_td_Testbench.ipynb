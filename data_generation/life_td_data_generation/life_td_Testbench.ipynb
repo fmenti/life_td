{
 "cells": [
  {
   "metadata": {},
   "cell_type": "markdown",
   "source": "# Active work in LIFE Target Database",
   "id": "c4b832179fb037d5"
  },
  {
   "metadata": {},
   "cell_type": "markdown",
   "source": [
    "## starcat 4 stars that would be good to be in there\n",
    "\n",
    "Jonah: golden targets\n",
    "\n",
    "Felix: a lot fewer k and g stars in version 4 than version 3 catalog"
   ],
   "id": "4aac422640628fc2"
  },
  {
   "metadata": {},
   "cell_type": "code",
   "source": [
    "from utils.analysis import starcat_versions_lost_stars\n",
    "lost_g_stars = starcat_versions_lost_stars()\n",
    "print(lost_g_stars)\n",
    "\n"
   ],
   "id": "c4afef555a369020",
   "outputs": [],
   "execution_count": null
  },
  {
   "metadata": {},
   "cell_type": "code",
   "source": [
    "\n",
    "# quite a number fail because of wds companions not having all the parameters we need -> would be solved by using dedicated multiplicity catalog for those. though some of those should have sptype in simbad, why do I not get that?\n",
    "# - simbad object is not included... why not? create unit test for this to figure out\n",
    "# some have issue that system name and primary name are the same so I get systems without children"
   ],
   "id": "262df78388ed8446",
   "outputs": [],
   "execution_count": null
  },
  {
   "metadata": {
    "ExecuteTime": {
     "end_time": "2025-06-25T11:54:38.065607Z",
     "start_time": "2025-06-25T11:54:38.026397Z"
    }
   },
   "cell_type": "code",
   "source": [
    "# 1. have a first look at it\n",
    "\n",
    "from utils.analysis import detail_info_object\n",
    "\n",
    "starname='WDS J10114+4927B'#'*  11 LMi'\n",
    "detail_info_object(database_tables,starname)\n",
    "#wait, eta cas A is seen as system but does have stellar parameters...\n",
    "#why is not having a parent a reason for exclusion?"
   ],
   "id": "97b0b2ed6fa1e7c6",
   "outputs": [
    {
     "name": "stdout",
     "output_type": "stream",
     "text": [
      "\n",
      "Identifier \n",
      "       id            main_id      id_source_idref object_idref\n",
      "---------------- ---------------- --------------- ------------\n",
      "WDS J10114+4927B WDS J10114+4927B             197        18143\n",
      "\n",
      "Object type\n",
      "type\n",
      "----\n",
      "  st\n",
      "\n",
      " Basic stellar data\n",
      "    main_id      class_lum class_temp class_temp_nr\n",
      "---------------- --------- ---------- -------------\n",
      "WDS J10114+4927B         ?          ?             ?\n",
      "\n",
      "Parents\n",
      "  parent_main_id   child_main_id   ... child_object_idref parent_object_idref\n",
      "                                   ...                                       \n",
      "----------------- ---------------- ... ------------------ -------------------\n",
      "WDS J10114+4927AB WDS J10114+4927B ...              18143               18141\n",
      "\n",
      "Siblings\n",
      "  parent_main_id   child_main_id   ... child_object_idref parent_object_idref\n",
      "                                   ...                                       \n",
      "----------------- ---------------- ... ------------------ -------------------\n",
      "WDS J10114+4927AB        HD  88230 ...               8306               18141\n",
      "WDS J10114+4927AB WDS J10114+4927B ...              18143               18141\n",
      "\n",
      "Sibling's properties\n",
      "    main_id      class_lum class_temp class_temp_nr\n",
      "---------------- --------- ---------- -------------\n",
      "WDS J10114+4927B         ?          ?             ?\n"
     ]
    }
   ],
   "execution_count": 3
  },
  {
   "metadata": {},
   "cell_type": "markdown",
   "source": "\n",
   "id": "47f8f3117e67f7a6"
  },
  {
   "metadata": {},
   "cell_type": "code",
   "source": [
    "# 2. run the code specifically made to find out reason\n",
    "\n",
    "import importlib\n",
    "#refactured code: -> seems to be working\n",
    "#now trying to print out and / or store as list exactly objects that lead to exclusion e.g. children\n",
    "#hm I guess I would like to have a reference to which catalog \n",
    "#   I used to assicn the type of the object (gaia, wds, simbad)\n",
    "import utils.analysis.catalog_comparison as cc\n",
    "importlib.reload(cc)\n",
    "\n",
    "# list given by jonah\n",
    "l_golden_targets=['* alf Cen A','* alf Cen B','* alf Cen C','NAME Teegarden\\'s Star','* tau Cet','* eps Eri','* eps Ind','HD  88230','* omi02 Eri','* sig Dra','HD 131977','* eta Cas A','* eta Cas B','TRAPPIST-1']\n",
    "# list given by felix lost_g_stars\n",
    "\n",
    "cc.detail_criteria(database_tables,list(lost_g_stars))"
   ],
   "id": "176f4d4eb1f2c67c",
   "outputs": [],
   "execution_count": null
  },
  {
   "metadata": {},
   "cell_type": "code",
   "source": [
    "from utils.analysis.catalog_comparison import detail_criteria\n",
    "l_golden_targets=['* alf Cen A','* alf Cen B','* alf Cen C','NAME Teegarden\\'s Star','* tau Cet','* eps Eri','* eps Ind','HD  88230','* omi02 Eri','* sig Dra','HD 131977','* eta Cas A','* eta Cas B','TRAPPIST-1']\n",
    "detail_criteria(database_tables,l_golden_targets)\n",
    "#to do, save star names without NAME in front."
   ],
   "id": "e25d8cb1ecd40e2",
   "outputs": [],
   "execution_count": null
  },
  {
   "metadata": {},
   "cell_type": "markdown",
   "source": "### issue non physical multiples",
   "id": "ddcad5c72b6e49d4"
  },
  {
   "metadata": {},
   "cell_type": "markdown",
   "source": "### issue out of distance cut h_link\n",
   "id": "44dcd8b9fa962fb1"
  },
  {
   "metadata": {},
   "cell_type": "code",
   "source": [
    "distance_cut_in_pc = 30.\n",
    "plx_in_mas_cut = 1000. / distance_cut_in_pc\n",
    "print(plx_in_mas_cut)\n",
    "#making cut a bit bigger for correct treatment of objects on boundary\n",
    "plx_cut = plx_in_mas_cut - plx_in_mas_cut / 10.\n",
    "print(plx_cut)\n",
    "#something is wrong or is it just that 30 pc gives a strange result?, yes 30 pc is mathematically strange"
   ],
   "id": "9f4c7f57bbfc7f83",
   "outputs": [],
   "execution_count": null
  },
  {
   "metadata": {},
   "cell_type": "code",
   "outputs": [],
   "execution_count": null,
   "source": [
    " # hm WDS J10114+4927B seems to have a way too small plx to be in our sample. so is just visual binary from wds\n",
    "    # how do I incorporate this knowledge into my db? if I have this object in my db I should include its plx too\n",
    "    # if I kick it out I should indicate that sibling is actually single star\n",
    "    # ... maybe in life provider take the wds objects, fetch main_id, get simbad stuff for them,\n",
    "    # run specific multiplicity catalog over them, adapt binary & h-link stuff\n",
    "    # sounds more like something that should be done in wds provider.\n",
    "    # right when creating the helpertable\n",
    "    # like as soon as I have an id I should also query the plx\n",
    "    # make a list of those whose plx are given but outside our cutoff\n",
    "    # make a list of their associated objects\n",
    "    # or right after running wds I take all objects of type sy and run a new provider with better\n",
    "    # next idea:\n",
    "    # at end of life provider (which should run last) get all possible plx and clean out objects that are too far out. give hosts and siblings special treatment e.g. a flag\n",
    "\n"
   ],
   "id": "76f59959ac299394"
  },
  {
   "metadata": {},
   "cell_type": "code",
   "outputs": [],
   "execution_count": null,
   "source": [
    "from provider.simbad import *\n",
    "from astropy.table import Table\n",
    "\n",
    "\n",
    "def test_wds_nonphysical_multiples():\n",
    "    # data\n",
    "    distance_cut_in_pc = 30.\n",
    "    test_objects = ['WDS J10114+4927B']\n",
    "    cat = Table(data=[['WDS J10114+4927B'],['HD 233714']],\n",
    "                names=['id','main_id'],\n",
    "                dtype=[object,object])\n",
    "    # hm WDS J10114+4927B seems to have a way too small plx to be in our sample. so is just visual binary from wds\n",
    "    # how do I incorporate this knowledge into my db? if I have this object in my db I should include its plx too\n",
    "    # if I kick it out I should indicate that sibling is actually single star\n",
    "    # ... maybe in life provider take the wds objects, fetch main_id, get simbad stuff for them,\n",
    "    # run specific multiplicity catalog over them, adapt binary & h-link stuff\n",
    "\n",
    "    # get main id of test objects\n",
    "    fetch_main_id(cat, id_creator = IdentifierCreator(name='main_id', colname='id'))\n",
    "\n",
    "    # function (problem, this is more of an integration test but the function\n",
    "    #  is written in a way to enable easy exploration testing)\n",
    "    sim_helptab, sim = create_simbad_helpertable(distance_cut_in_pc, test_objects)\n",
    "\n",
    "    # assert"
   ],
   "id": "6eb27703f14bf37a"
  },
  {
   "metadata": {},
   "cell_type": "code",
   "source": [
    "\n",
    "\n",
    "\n",
    "#'* 212 Pup A' kicked out in non trivial binaries in starcat but in this code as trivial binary with companion not matching sptype\n",
    "#['* zet01 Ret', '*  50 Per', 'HD  50281', 'HD  65907', '* eps Ind', 'V* V2215 Oph'] other way round"
   ],
   "id": "d3598cbc6bdf162e",
   "outputs": [],
   "execution_count": null
  },
  {
   "metadata": {},
   "cell_type": "markdown",
   "source": "# database creation",
   "id": "43f297f503c7af45"
  },
  {
   "metadata": {},
   "cell_type": "code",
   "source": [
    "import importlib #reloading external functions after modification\n",
    "\n",
    "#self created modules\n",
    "import life_td as ltd\n",
    "importlib.reload(ltd)#reload module after changing it\n",
    "\n",
    "#provider_tables_dict, database_tables= ltd.partial_create(30,create=['life'])\n",
    "\n",
    "provider_tables_dict, database_tables= ltd.create_life_td(30)\n",
    "\n",
    "#issue: does not wokr with loading as then id_source_idref already exists -> put in a workaround with a warning. though now did not happen...\n",
    "\n",
    "#issue: create not working right now because exomercat server not available -> put in a workaround\n",
    "#issue: main_id missing in star_basic -> suddenly working??\n",
    "\n",
    "#vizier not working? -> do tests first -> issue on topcat too -> solved"
   ],
   "id": "bb806477fdbd6ca3",
   "outputs": [],
   "execution_count": null
  },
  {
   "metadata": {},
   "cell_type": "markdown",
   "source": "# load and analyze database",
   "id": "5a51a0c8016eb154"
  },
  {
   "metadata": {
    "ExecuteTime": {
     "end_time": "2025-06-25T11:54:31.309954Z",
     "start_time": "2025-06-25T11:54:26.484602Z"
    }
   },
   "cell_type": "code",
   "source": [
    "import importlib #reloading external functions after modification\n",
    "\n",
    "#self created modules\n",
    "import life_td as ltd\n",
    "importlib.reload(ltd)#reload module after changing it\n",
    "\n",
    "provider_tables_dict, database_tables= ltd.load_life_td()\n",
    "\n",
    "#ah when it showed me an empty area in wds.py it actually didn't load it correctly. when I then cleaned it out it introduced an error. need to uncommit the minor fixes commit and then unstack that file"
   ],
   "id": "57cd4e706be11eff",
   "outputs": [
    {
     "name": "stdout",
     "output_type": "stream",
     "text": [
      "Loading life_td generated data\n",
      "Loading sim data\n",
      "Loading sdb data\n",
      "Loading wds data\n",
      "Loading exo data\n",
      "Loading life data\n",
      "Loading gaia data\n"
     ]
    }
   ],
   "execution_count": 2
  },
  {
   "metadata": {},
   "cell_type": "markdown",
   "source": [
    "# is this outdated?\n",
    "Finding issue that causes M0-M5 stars to have too high temperatures (4250 instead of 3000). I think I solved this issue by adding quality assessment to gaia gspspec"
   ],
   "id": "be0936e6a7661a3b"
  },
  {
   "metadata": {},
   "cell_type": "code",
   "source": [
    "import numpy as np\n",
    "#9=mesteff\n",
    "#5=starbasic\n",
    "#print(database_tables[5].colnames)\n",
    "cols=['main_id','sptype_string','teff_st_qual','teff_st_value','teff_st_source_idref']\n",
    "mstars=database_tables['star_basic'][cols][np.where(database_tables['star_basic']['class_temp']=='M')]\n",
    "mstars_tempgiven=mstars[np.where(mstars['teff_st_value']!=1e+20)]\n",
    "print(mstars_tempgiven[np.where(mstars_tempgiven['teff_st_value']>4000)])"
   ],
   "id": "c8a33f15a37eed8f",
   "outputs": [],
   "execution_count": null
  },
  {
   "metadata": {},
   "cell_type": "code",
   "source": "print(database_tables['sources'][np.where(database_tables['sources']['source_id']==874)])",
   "id": "6f55266d33eaa9fe",
   "outputs": [],
   "execution_count": null
  },
  {
   "metadata": {},
   "cell_type": "code",
   "source": [
    "import numpy as np\n",
    "#so lets find out if in gaia archive this is also the case\n",
    "#first find gaia id\n",
    "cols=['teff_st_qual','teff_st_value','teff_st_source_idref']\n",
    "\n",
    "print(database_tables['mes_teff_st'][cols][np.where(database_tables['mes_teff_st']['main_id']=='HD 166348')])\n",
    "#Gaia DR3 4848140361962951552\n",
    "\n",
    "#on archive only gspphot showable and it is empty"
   ],
   "id": "a86ff94a2a1b7a15",
   "outputs": [],
   "execution_count": null
  },
  {
   "metadata": {},
   "cell_type": "code",
   "source": [
    "from sdata import empty_dict\n",
    "from provider.utils import fetch_main_id, IdentifierCreator, create_provider_table, query\n",
    "from pyvo.dal import TAPService\n",
    "\n",
    "adql_query=\"\"\"\n",
    "    SELECT top 10 s.source_id ,p.mass_flame, p.radius_flame,\n",
    "        p.teff_gspphot, p.teff_gspspec, m.nss_solution_type, p.age_flame\n",
    "    FROM gaiadr3.gaia_source as s\n",
    "        JOIN gaiadr3.astrophysical_parameters as p ON s.source_id=p.source_id\n",
    "            LEFT JOIN gaiadr3.nss_two_body_orbit as m ON s.source_id=m.source_id\n",
    "            WHERE s.source_id = 4848140361962951552\"\"\"\n",
    "gaia = empty_dict.copy()\n",
    "gaia['provider'] = create_provider_table('Gaia',\n",
    "                                  \"https://gea.esac.esa.int/tap-server/tap\",\n",
    "                                  '2016A&A...595A...1G')\n",
    "try: \n",
    "    gaia_helptab=query(gaia['provider']['provider_url'][0],adql_query) \n",
    "\n",
    "except:\n",
    "    #because of bug in gaia server where async not working currently\n",
    "    service = TAPService(gaia['provider']['provider_url'][0])\n",
    "    result=service.run_sync(adql_query.format(**locals()), maxrec=160000)\n",
    "    gaia_helptab=result.to_table()\n"
   ],
   "id": "9bde020b4921ee81",
   "outputs": [],
   "execution_count": null
  },
  {
   "metadata": {},
   "cell_type": "code",
   "source": "print(gaia_helptab['source_id','teff_gspspec'])",
   "id": "5ea4007677b7f1f9",
   "outputs": [],
   "execution_count": null
  },
  {
   "metadata": {},
   "cell_type": "code",
   "source": "#so yes that is how it is in gaia. now find out if this parameter is reliable and if not lower its quality",
   "id": "63813166b9443371",
   "outputs": [],
   "execution_count": null
  },
  {
   "metadata": {},
   "cell_type": "code",
   "source": [
    "import utils.analysis as lta\n",
    "\n",
    "lta.sanity_tests(database_tables,5)"
   ],
   "id": "eac64433b427313a",
   "outputs": [],
   "execution_count": null
  }
 ],
 "metadata": {
  "kernelspec": {
   "display_name": "Python 3 (ipykernel)",
   "language": "python",
   "name": "python3"
  },
  "language_info": {
   "codemirror_mode": {
    "name": "ipython",
    "version": 3
   },
   "file_extension": ".py",
   "mimetype": "text/x-python",
   "name": "python",
   "nbconvert_exporter": "python",
   "pygments_lexer": "ipython3",
   "version": "3.13.3"
  }
 },
 "nbformat": 4,
 "nbformat_minor": 5
}
