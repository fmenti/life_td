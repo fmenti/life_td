{
 "cells": [
  {
   "cell_type": "markdown",
   "id": "7a1b6539",
   "metadata": {},
   "source": [
    "# LIFE Star Catalog\n",
    "## Introduction\n",
    "One of the main use cases of the LIFE Target Database is to enable the creation of the LIFE Star Catalog (LIFE-StarCat). It is the stellar sample of potential targets that is used by LIFEsim to provide mission yield estimates. In this tutorial we guide you through how the 4th version of this catalog was created. Following our example you can learn how you could create your own catalog for your science project.\n",
    "\n",
    "Make sure to have this file saved in the correct directory (data_generation/life_td_data_generation) before running it. The file in data_generation/docs/source/tutorials is only intended for proper display on the webpage."
   ]
  },
  {
   "cell_type": "markdown",
   "id": "9b986037",
   "metadata": {},
   "source": [
    "## Getting started\n",
    "We start by importing the required Python modules for this tutorial. Be aware that you will need to have them installed in your environment for this to work."
   ]
  },
  {
   "cell_type": "code",
   "id": "ee42fe9e",
   "metadata": {
    "ExecuteTime": {
     "end_time": "2025-09-16T14:06:18.434890Z",
     "start_time": "2025-09-16T14:06:18.233601Z"
    }
   },
   "source": [
    "import astropy as ap  # Used for votables\n",
    "import numpy as np  # Used for arrays\n",
    "import pyvo as vo  # Used for catalog query"
   ],
   "outputs": [],
   "execution_count": 2
  },
  {
   "cell_type": "markdown",
   "id": "e9226f74",
   "metadata": {},
   "source": [
    "Next we import the life_td_data_generation specific functions from the modules."
   ]
  },
  {
   "cell_type": "code",
   "id": "ceb0544e",
   "metadata": {
    "ExecuteTime": {
     "end_time": "2025-09-16T14:06:20.909134Z",
     "start_time": "2025-09-16T14:06:20.898981Z"
    }
   },
   "source": [
    "# Self created modules\n",
    "from provider.utils import query\n",
    "from utils.io import save"
   ],
   "outputs": [],
   "execution_count": 3
  },
  {
   "cell_type": "markdown",
   "id": "d30c8358",
   "metadata": {},
   "source": [
    "In case you don't want to download the life_td_data_generation package you can also just use the two functions below."
   ]
  },
  {
   "cell_type": "code",
   "id": "6e210f9e",
   "metadata": {
    "ExecuteTime": {
     "end_time": "2025-09-15T12:19:44.278495Z",
     "start_time": "2025-09-15T12:19:44.270539Z"
    }
   },
   "source": [
    "additional_data_path = \"../../additional_data/\"\n",
    "\n",
    "\n",
    "def save(cats, names, location=additional_data_path):\n",
    "    \"\"\"\n",
    "    This functions saves the tables given as list in the cats parameter.\n",
    "\n",
    "    :param cats: Python list of astropy table to be saved.\n",
    "    :type cats: list(astropy.table.table.Table)\n",
    "    :param names: Contains names for saving location\n",
    "        of tables in cats.\n",
    "    :type names: list(str)\n",
    "    :param str location: Defaults to ../../data/additional_data/\n",
    "    \"\"\"\n",
    "    # go through all the elements in both lists\n",
    "    for cat, path in zip(cats, names):\n",
    "        # for each column header\n",
    "        for i in cat.colnames:\n",
    "            if cat[i].dtype == object:  # object =adaptable length string\n",
    "                # transform the type into string\n",
    "                cat[i] = cat[i].astype(str)\n",
    "        # save the table\n",
    "        ap.io.votable.writeto(\n",
    "            ap.io.votable.from_table(cat), f\"{location}{path}.xml\"\n",
    "        )\n",
    "    return\n",
    "\n",
    "\n",
    "def query(link, query, catalogs=[], no_description=True):\n",
    "    \"\"\"\n",
    "    Performs a query via TAP on the service given in the link parameter.\n",
    "\n",
    "    If a list of tables is given in the catalogs parameter,\n",
    "    those are uploaded to the service beforehand.\n",
    "\n",
    "    :param str link: Service access URL.\n",
    "    :param str query: Query to be asked of the external database service\n",
    "         in ADQL.\n",
    "    :param catalogs: List of astropy tables to be uploaded to the\n",
    "        service.\n",
    "    :type catalogs: list(astropy.table.table.Table)\n",
    "    :param bool no_description: Defaults to True, wether description gets removed\n",
    "    :returns: Result of the query.\n",
    "    :rtype: astropy.table.table.Table\n",
    "    \"\"\"\n",
    "    # defining the vo service using the given link\n",
    "    service = vo.dal.TAPService(link)\n",
    "    # without upload tables\n",
    "    if catalogs == []:\n",
    "        result = service.run_async(query.format(**locals()), maxrec=1600000)\n",
    "    # with upload tables\n",
    "    else:\n",
    "        tables = {}\n",
    "        for i in range(len(catalogs)):\n",
    "            tables.update({f\"t{i + 1}\": catalogs[i]})\n",
    "        result = service.run_async(\n",
    "            query, uploads=tables, timeout=None, maxrec=1600000\n",
    "        )\n",
    "    cat = result.to_table()\n",
    "\n",
    "    # removing descriptions because merging of data leaves wrong description\n",
    "    for col in cat.colnames:\n",
    "        if no_description:\n",
    "            cat[col].description = \"\"\n",
    "\n",
    "    return cat"
   ],
   "outputs": [],
   "execution_count": 8
  },
  {
   "metadata": {},
   "cell_type": "markdown",
   "source": [
    "## Querying the Database\n",
    "We will now query the LIFE Target Database (life_td) for the data needed to create the catalog. We specify the distance cut as 30 parsec according to the latest LIFE catalog version (4)."
   ],
   "id": "b8dd0ad46f97c404"
  },
  {
   "metadata": {
    "ExecuteTime": {
     "end_time": "2025-09-16T14:06:24.184576Z",
     "start_time": "2025-09-16T14:06:24.179957Z"
    }
   },
   "cell_type": "code",
   "source": "distance_cut = 30.0",
   "id": "2669fa8279dc7577",
   "outputs": [],
   "execution_count": 4
  },
  {
   "metadata": {},
   "cell_type": "markdown",
   "source": "Now we define the concrete query. It is one of the provided examples at http://dc.zah.uni-heidelberg.de/life/q/ex/examples and returns parameters for all objects of type star with distances smaller than 30 pc. We also give the link for the service.",
   "id": "64a26266ba6a522a"
  },
  {
   "metadata": {
    "ExecuteTime": {
     "end_time": "2025-09-16T14:06:25.492521Z",
     "start_time": "2025-09-16T14:06:25.486850Z"
    }
   },
   "cell_type": "code",
   "source": [
    "adql_query = \"\"\"\n",
    "    SELECT o.main_id, sb.coo_ra, sb.coo_dec, sb.plx_value, sb.dist_st_value,\n",
    "        sb.sptype_string, sb.coo_gal_l, sb.coo_gal_b, sb.teff_st_value,\n",
    "        sb.mass_st_value, sb.radius_st_value, sb.binary_flag, sb.mag_i_value,\n",
    "        sb.mag_j_value,  sb.class_lum, sb.class_temp,\n",
    "        o_parent.main_id AS parent_main_id, sb_parent.sep_ang_value\n",
    "    FROM life_td.star_basic AS sb\n",
    "    JOIN life_td.object AS o ON sb.object_idref=o.object_id\n",
    "    LEFT JOIN life_td.h_link AS h ON o.object_id=h.child_object_idref\n",
    "    LEFT JOIN life_td.object AS o_parent ON\n",
    "        h.parent_object_idref=o_parent.object_id\n",
    "    LEFT JOIN life_td.star_basic AS sb_parent ON\n",
    "        o_parent.object_id=sb_parent.object_idref\n",
    "    WHERE o.type = 'st' AND sb.dist_st_value < \"\"\" + str(distance_cut)\n",
    "service = \"http://dc.zah.uni-heidelberg.de/tap\""
   ],
   "id": "6e1507c1badb8ed7",
   "outputs": [],
   "execution_count": 5
  },
  {
   "metadata": {},
   "cell_type": "markdown",
   "source": "Next we perform the actual query.",
   "id": "f6570d829b9440e9"
  },
  {
   "cell_type": "code",
   "id": "c8e46c03",
   "metadata": {
    "ExecuteTime": {
     "end_time": "2025-09-16T14:06:36.013509Z",
     "start_time": "2025-09-16T14:06:27.500894Z"
    }
   },
   "source": "catalog = query(service, adql_query)",
   "outputs": [],
   "execution_count": 6
  },
  {
   "cell_type": "markdown",
   "id": "ae641ec6",
   "metadata": {},
   "source": [
    "Let's have a short look at what we got:"
   ]
  },
  {
   "cell_type": "code",
   "id": "d0333e72",
   "metadata": {
    "ExecuteTime": {
     "end_time": "2025-09-16T14:01:52.293928Z",
     "start_time": "2025-09-16T14:01:52.279381Z"
    }
   },
   "source": [
    "print(catalog)"
   ],
   "outputs": [
    {
     "name": "stdout",
     "output_type": "stream",
     "text": [
      "    main_id           coo_ra       ... parent_main_id sep_ang_value\n",
      "                       deg         ...                    arcsec   \n",
      "--------------- ------------------ ... -------------- -------------\n",
      "    *  61 Cyg B  316.7302660185276 ...      *  61 Cyg         184.4\n",
      "    *  61 Cyg A  316.7247482895925 ...      *  61 Cyg         184.4\n",
      "    L 1578-44 B  324.1601460120721 ...      L 1578-44           1.0\n",
      "    L 1578-44 A 324.16073469423293 ...      L 1578-44           1.0\n",
      "UPM J2325+4717B  351.4090302929913 ... UPM J2325+4717            --\n",
      "UPM J2325+4717A  351.4091812460812 ... UPM J2325+4717            --\n",
      "     Ross  200B  325.0050669305063 ...      Ross  200           1.2\n",
      "     Ross  200A  325.0044367358217 ...      Ross  200           1.2\n",
      "     HD 239960B  336.9991483422729 ...      HD 239960         141.2\n",
      "            ...                ... ...            ...           ...\n",
      "      LP  908-5 180.42532869409166 ...                           --\n",
      "SIPS J2308-2721 347.04743961483575 ...                           --\n",
      "LSPM J2027+2555 306.81224854969537 ...                           --\n",
      "    LP  267-403  194.4614920599154 ...                           --\n",
      "      HD 107146    184.77709118346 ...                           --\n",
      "       EGGR 535 159.73154174269249 ...                           --\n",
      "    CD-27  9225 201.45352715003833 ...                           --\n",
      "       G 160-19   55.8419292602963 ...                           --\n",
      "LSPM J0540+0854     85.22458268454 ...                           --\n",
      "      LP  844-4 129.39142445344999 ...                           --\n",
      "Length = 9022 rows\n"
     ]
    }
   ],
   "execution_count": 9
  },
  {
   "cell_type": "markdown",
   "id": "dac2e2df",
   "metadata": {},
   "source": [
    "We can see that we obtained a table of about 10'000 stars."
   ]
  },
  {
   "cell_type": "markdown",
   "id": "928ebe77",
   "metadata": {},
   "source": [
    "## Processing the result\n",
    "### Removing non main-sequence stars\n",
    "For the LIFE mission we are only interested in main sequence stars so in the next step we remove all other stars. We first remove those without main sequence temperature classes (e.g. white dwarfs)."
   ]
  },
  {
   "cell_type": "code",
   "id": "1bc48dbf",
   "metadata": {
    "ExecuteTime": {
     "end_time": "2025-09-16T14:06:36.040599Z",
     "start_time": "2025-09-16T14:06:36.027321Z"
    }
   },
   "source": [
    "ms_tempclass = np.array([\"O\", \"B\", \"A\", \"F\", \"G\", \"K\", \"M\"])\n",
    "cat_ms_tempclass = catalog[\n",
    "    np.where(np.isin(catalog[\"class_temp\"], ms_tempclass))\n",
    "]"
   ],
   "outputs": [],
   "execution_count": 7
  },
  {
   "cell_type": "markdown",
   "id": "2266ada0",
   "metadata": {},
   "source": [
    "Next we remove objects that are not main sequence in luminosity class.\n",
    "Note that the class_lum parameter from the LIFE Target Database assumes V if no luminosity class is given in the sptype_string parameter. This is justified as the main sequence is the longest lasting evolutionary period of a star leaving the great majority of stars in this stage. This assumption was neccessary as the estimated stellar effective temperature, mass and radius values use a relation requiring luminosity class V."
   ]
  },
  {
   "cell_type": "code",
   "id": "5c3c5b8f",
   "metadata": {
    "ExecuteTime": {
     "end_time": "2025-09-16T14:06:42.077638Z",
     "start_time": "2025-09-16T14:06:42.053475Z"
    }
   },
   "source": [
    "ms_lumclass = np.array([\"V\"])\n",
    "cat_ms_lumclass = cat_ms_tempclass[\n",
    "    np.where(np.isin(cat_ms_tempclass[\"class_lum\"], ms_lumclass))\n",
    "]\n",
    "print(cat_ms_lumclass)"
   ],
   "outputs": [
    {
     "name": "stdout",
     "output_type": "stream",
     "text": [
      "    main_id           coo_ra       ... parent_main_id sep_ang_value\n",
      "                       deg         ...                    arcsec   \n",
      "--------------- ------------------ ... -------------- -------------\n",
      "    *  61 Cyg B  316.7302660185276 ...      *  61 Cyg         184.4\n",
      "    *  61 Cyg A  316.7247482895925 ...      *  61 Cyg         184.4\n",
      "    L 1578-44 A 324.16073469423293 ...      L 1578-44           1.0\n",
      "     HD 239960B  336.9991483422729 ...      HD 239960         141.2\n",
      "     HD 239960A  336.9981564512275 ...      HD 239960         141.2\n",
      "      HD 179958 288.02093934795624 ...    BD+49  2959          27.2\n",
      "      HD 179957 288.01949584708956 ...    BD+49  2959          27.2\n",
      "      Wolf 1084  310.8302599214592 ...      Wolf 1084           0.1\n",
      "    *  16 Cyg B    295.46655282394 ...      *  16 Cyg          18.2\n",
      "            ...                ... ...            ...           ...\n",
      "      L  349-68  298.5005688176708 ...                           --\n",
      "        MCC 467     85.49527926983 ...                           --\n",
      "      Wolf  830  273.4215796038858 ...                           --\n",
      "      LP  908-5 180.42532869409166 ...                           --\n",
      "    LP  267-403  194.4614920599154 ...                           --\n",
      "      HD 107146    184.77709118346 ...                           --\n",
      "    CD-27  9225 201.45352715003833 ...                           --\n",
      "       G 160-19   55.8419292602963 ...                           --\n",
      "LSPM J0540+0854     85.22458268454 ...                           --\n",
      "      LP  844-4 129.39142445344999 ...                           --\n",
      "Length = 5013 rows\n"
     ]
    }
   ],
   "execution_count": 8
  },
  {
   "cell_type": "markdown",
   "id": "2baa090f",
   "metadata": {},
   "source": [
    "### Removing higher order multiples\n",
    "For the LIFE catalog we want single stars and wide binaries that can be approximated as single stars. For that we now split the sample into single and multiple stars:"
   ]
  },
  {
   "cell_type": "code",
   "id": "0dff9a54",
   "metadata": {
    "ExecuteTime": {
     "end_time": "2025-09-16T14:06:44.457731Z",
     "start_time": "2025-09-16T14:06:44.442050Z"
    }
   },
   "source": [
    "singles = cat_ms_lumclass[np.where(cat_ms_lumclass[\"binary_flag\"] == \"False\")]\n",
    "multiples = cat_ms_lumclass[np.where(cat_ms_lumclass[\"binary_flag\"] == \"True\")]\n",
    "print(len(singles), len(multiples))"
   ],
   "outputs": [
    {
     "name": "stdout",
     "output_type": "stream",
     "text": [
      "3001 2012\n"
     ]
    }
   ],
   "execution_count": 10
  },
  {
   "cell_type": "markdown",
   "id": "d1aee1a4",
   "metadata": {},
   "source": [
    "Next we remove higher order multiples. That means we remove systems like shown in the nextled multiples part of the following figure:\n",
    "![title](multiplicity.png)"
   ]
  },
  {
   "cell_type": "markdown",
   "id": "675fc369",
   "metadata": {},
   "source": "To do that we first remove those objects, where the parent object is a child object as well. In the example above that would be \"system AB\". For that we need to get the hierarchy table from life_td."
  },
  {
   "cell_type": "code",
   "id": "e26b0285",
   "metadata": {
    "ExecuteTime": {
     "end_time": "2025-09-16T14:06:56.181923Z",
     "start_time": "2025-09-16T14:06:46.040085Z"
    }
   },
   "source": [
    "adql_query2 = \"\"\"\n",
    "    SELECT o.main_id as child_main_id,o.object_id\n",
    "    FROM life_td.object AS o\n",
    "    JOIN life_td.h_link AS h on o.object_id=h.child_object_idref\n",
    "    \"\"\"\n",
    "h_link = query(service, adql_query2)"
   ],
   "outputs": [],
   "execution_count": 11
  },
  {
   "cell_type": "code",
   "id": "a523b43d",
   "metadata": {
    "ExecuteTime": {
     "end_time": "2025-09-16T14:06:56.453206Z",
     "start_time": "2025-09-16T14:06:56.195959Z"
    }
   },
   "source": [
    "higher_order_multiples = np.isin(\n",
    "    multiples[\"parent_main_id\"], h_link[\"child_main_id\"]\n",
    ")\n",
    "multiples.remove_rows(higher_order_multiples)"
   ],
   "outputs": [],
   "execution_count": 12
  },
  {
   "cell_type": "markdown",
   "id": "92965eca",
   "metadata": {},
   "source": [
    "Now we also remove objects that have multiple parent objects, e.g., *  9 Aur has as parent WDS J05067+5136AB, WDS J05067+5136AC and WDS J05067+5136AE given."
   ]
  },
  {
   "cell_type": "code",
   "id": "a1078aca",
   "metadata": {
    "ExecuteTime": {
     "end_time": "2025-09-16T14:06:56.941072Z",
     "start_time": "2025-09-16T14:06:56.894049Z"
    }
   },
   "source": [
    "multi_parent = []\n",
    "grouped = multiples.group_by(\"main_id\")\n",
    "ind = grouped.groups.indices\n",
    "for i in range(len(ind) - 1):\n",
    "    if ind[i + 1] - ind[i] != 1:\n",
    "        multi_parent.append(grouped[\"main_id\"][ind[i]])\n",
    "\n",
    "single_parent_multiples = grouped[\n",
    "    np.where(np.invert(np.isin(grouped[\"main_id\"], multi_parent)))\n",
    "]\n",
    "print(len(single_parent_multiples))"
   ],
   "outputs": [
    {
     "name": "stdout",
     "output_type": "stream",
     "text": [
      "968\n"
     ]
    }
   ],
   "execution_count": 13
  },
  {
   "cell_type": "markdown",
   "id": "02b52bcd",
   "metadata": {},
   "source": [
    "Since we want to get wide binaries the next step is to have a look at the given separation values. We remove those binaries where no separation value is given."
   ]
  },
  {
   "cell_type": "code",
   "id": "c4b22bde",
   "metadata": {
    "ExecuteTime": {
     "end_time": "2025-09-16T14:06:59.607252Z",
     "start_time": "2025-09-16T14:06:59.592793Z"
    }
   },
   "source": [
    "sep_multiples = single_parent_multiples[\n",
    "    np.where(single_parent_multiples[\"sep_ang_value\"].mask == False)\n",
    "].copy()"
   ],
   "outputs": [],
   "execution_count": 14
  },
  {
   "cell_type": "markdown",
   "id": "3508b125",
   "metadata": {},
   "source": [
    "Now we transform the separation values from angular into physical. This is neccessary as we want to look at in a later step at the planetery orbit stability around the habitable zone."
   ]
  },
  {
   "cell_type": "code",
   "id": "f0b14757",
   "metadata": {
    "ExecuteTime": {
     "end_time": "2025-09-16T14:07:00.706434Z",
     "start_time": "2025-09-16T14:07:00.642641Z"
    }
   },
   "source": [
    "sep_multiples[\"sep_phys_value\"] = sep_multiples[\n",
    "    \"sep_ang_value\"\n",
    "]  # just initiating new column with same properties\n",
    "sep_multiples[\"sep_phys_value\"].unit = ap.units.AU\n",
    "for i in range(len(sep_multiples)):\n",
    "    sep_multiples[\"sep_phys_value\"][i] = np.round(\n",
    "        sep_multiples[\"sep_ang_value\"][i] * sep_multiples[\"dist_st_value\"][i], 1\n",
    "    )"
   ],
   "outputs": [],
   "execution_count": 15
  },
  {
   "cell_type": "markdown",
   "id": "775a94e6",
   "metadata": {},
   "source": [
    "Now we only keep those binaries where both components fulfill all our requirements. Meaning the posses the parameters we need to compute the orbital stability mentioned above. Those parameters are being main sequence having the separation value given."
   ]
  },
  {
   "cell_type": "code",
   "id": "12358487",
   "metadata": {
    "ExecuteTime": {
     "end_time": "2025-09-16T14:07:03.517160Z",
     "start_time": "2025-09-16T14:07:02.522337Z"
    }
   },
   "source": [
    "grouped_multiples = sep_multiples.group_by(\"parent_main_id\")\n",
    "ind = grouped_multiples.groups.indices\n",
    "\n",
    "result = grouped_multiples[:0].copy()\n",
    "\n",
    "for i in range(len(ind) - 1):\n",
    "    l = ind[i + 1] - ind[i]\n",
    "    if l == 2:\n",
    "        result.add_row(grouped_multiples[ind[i]])\n",
    "        result.add_row(grouped_multiples[ind[i] + 1])"
   ],
   "outputs": [],
   "execution_count": 16
  },
  {
   "cell_type": "code",
   "id": "5484da11",
   "metadata": {
    "ExecuteTime": {
     "end_time": "2025-09-16T14:02:05.354878Z",
     "start_time": "2025-09-16T14:02:05.349570Z"
    }
   },
   "source": [
    "print(len(result))"
   ],
   "outputs": [
    {
     "name": "stdout",
     "output_type": "stream",
     "text": [
      "414\n"
     ]
    }
   ],
   "execution_count": 19
  },
  {
   "cell_type": "markdown",
   "id": "11676300",
   "metadata": {},
   "source": [
    "### Wide binaries\n",
    "Now we actually focus on the wide binaries. This means we keep only objects where <10 AU planet orbits are stable. For that we use the formula from Holman and Wiegert 1999 while assuming circular orbits and neglegt projection effects of the bianry separations.\n",
    "The following function computes the critical separation beyond which a planet on a S-type orbit is not stable any more."
   ]
  },
  {
   "cell_type": "code",
   "id": "ab3affb5",
   "metadata": {
    "ExecuteTime": {
     "end_time": "2025-09-16T14:07:04.611463Z",
     "start_time": "2025-09-16T14:07:04.605463Z"
    }
   },
   "source": [
    "def crit_sep(eps, mu, a_bin):\n",
    "    \"\"\"\n",
    "    Computes critical semimajor-axis for planet orbit stability.\n",
    "\n",
    "    For binary system as described in Holman and Wiegert 1999.\n",
    "\n",
    "    :param eps: Binary orbit excentricity.\n",
    "    :type eps:\n",
    "    :param mu: mass fraction with mu=m_s/(m_p+m_s), with m_s the mass\n",
    "        of the star considered as perturbing binary companion and m_p\n",
    "        the mass of the star the planet is orbiting.\n",
    "    :type mu:\n",
    "    :param a_bin: semimajor-axis of the binary stars.\n",
    "    :type a_bin:\n",
    "    :returns: Critical separation beyond which a planet on a S-type\n",
    "        orbit (circumstellar) and on a P-type orbit (circumbinary) is\n",
    "        not stable any more.\n",
    "    :rtype:\n",
    "    \"\"\"\n",
    "    a_crit_s = (\n",
    "        0.464\n",
    "        - 0.38 * mu\n",
    "        - 0.631 * eps\n",
    "        + 0.586 * mu * eps\n",
    "        + 0.15 * eps**2\n",
    "        - 0.198 * mu * eps**2\n",
    "    ) * a_bin\n",
    "    a_crit_p = (\n",
    "        1.6\n",
    "        + 5.1 * eps\n",
    "        - 2.22 * eps**2\n",
    "        + 4.12 * mu\n",
    "        - 4.27 * eps * mu\n",
    "        - 5.09 * mu**2\n",
    "        + 4.61 * eps**2 * mu**2\n",
    "    ) * a_bin\n",
    "    return a_crit_s, a_crit_p"
   ],
   "outputs": [],
   "execution_count": 17
  },
  {
   "cell_type": "markdown",
   "id": "df4b2432",
   "metadata": {},
   "source": [
    "Now we assign the critical separation to each binary component."
   ]
  },
  {
   "cell_type": "code",
   "id": "67802fde",
   "metadata": {
    "ExecuteTime": {
     "end_time": "2025-09-16T14:07:06.797991Z",
     "start_time": "2025-09-16T14:07:06.757720Z"
    }
   },
   "source": [
    "result[\"a_crit_s\"] = result[\n",
    "    \"sep_phys_value\"\n",
    "]  # initializing column a... like sep...\n",
    "\n",
    "for i in range(len(result)):\n",
    "    m_p = result[\"mass_st_value\"][i]\n",
    "    if i % 2 == 0:\n",
    "        m_s = result[\"mass_st_value\"][i + 1]\n",
    "    else:\n",
    "        m_s = result[\"mass_st_value\"][i - 1]\n",
    "    mu = m_s / (m_p + m_s)\n",
    "    result[\"a_crit_s\"][i] = crit_sep(0, mu, result[\"sep_phys_value\"][i])[0]\n",
    "    # assumed circular orbit and sep_phys = a_bin"
   ],
   "outputs": [
    {
     "name": "stderr",
     "output_type": "stream",
     "text": [
      "/tmp/ipykernel_20960/1797386601.py:11: RuntimeWarning: divide by zero encountered in divide\n",
      "  mu = m_s / (m_p + m_s)\n"
     ]
    }
   ],
   "execution_count": 18
  },
  {
   "cell_type": "markdown",
   "id": "a3f8542f",
   "metadata": {},
   "source": [
    "Next we keep only those where orbits up to 10AU are stable."
   ]
  },
  {
   "cell_type": "code",
   "id": "c679ed92",
   "metadata": {
    "ExecuteTime": {
     "end_time": "2025-09-16T14:07:11.681418Z",
     "start_time": "2025-09-16T14:07:10.772Z"
    }
   },
   "source": [
    "final = result[:0].copy()\n",
    "# wait, didn't I already define this? -> was before removing some\n",
    "ind = result.group_by(\"parent_main_id\").groups.indices\n",
    "a_max = 10.0\n",
    "\n",
    "for i in range(len(ind) - 1):\n",
    "    if a_max < min(result[\"a_crit_s\"][ind[i]], result[\"a_crit_s\"][ind[i] + 1]):\n",
    "        final.add_row(result[ind[i]])\n",
    "        final.add_row(result[ind[i] + 1])"
   ],
   "outputs": [],
   "execution_count": 19
  },
  {
   "cell_type": "code",
   "id": "61edea93",
   "metadata": {
    "ExecuteTime": {
     "end_time": "2025-09-16T14:02:06.358879Z",
     "start_time": "2025-09-16T14:02:06.354786Z"
    }
   },
   "source": [
    "print(len(final))"
   ],
   "outputs": [
    {
     "name": "stdout",
     "output_type": "stream",
     "text": [
      "370\n"
     ]
    }
   ],
   "execution_count": 23
  },
  {
   "cell_type": "markdown",
   "id": "9ef02c93",
   "metadata": {},
   "source": [
    "Finally we combine the singles stars and wide binaries back into a single sample."
   ]
  },
  {
   "cell_type": "code",
   "id": "a832b4dd",
   "metadata": {
    "ExecuteTime": {
     "end_time": "2025-09-16T14:07:14.062222Z",
     "start_time": "2025-09-16T14:07:14.043985Z"
    }
   },
   "source": [
    "StarCat4 = ap.table.vstack([singles, final])"
   ],
   "outputs": [],
   "execution_count": 20
  },
  {
   "cell_type": "markdown",
   "id": "7246517f",
   "metadata": {},
   "source": [
    "### Adding architecture parameter\n",
    "For mission design trade space we are interested in the ability to take subsamples of the stars depending on ecliptic angle. We therefore add another parameter indicating if the given star is within 45 degrees from the ecliptic plane."
   ]
  },
  {
   "cell_type": "code",
   "id": "60815e29",
   "metadata": {
    "ExecuteTime": {
     "end_time": "2025-09-16T14:07:15.904640Z",
     "start_time": "2025-09-16T14:07:15.685899Z"
    }
   },
   "source": [
    "def ecliptic(ang, ra, dec):\n",
    "    \"\"\"\n",
    "    Computes if position is within angle from the ecliptic.\n",
    "\n",
    "    Flag any object whose declination is contained within the region\n",
    "    between -(23.4+angle)*sin(RA) and +(23.4+angle)*sin(RA) with the\n",
    "    object's RA in degrees.\n",
    "\n",
    "    :param ang: Angle in degrees.\n",
    "    :type ang:\n",
    "    :param ra: Right ascention in degrees.\n",
    "    :type ra: np.array\n",
    "    :param dec: Array of declination in degrees.\n",
    "    :type dec: np.array\n",
    "    :returns: Flags.\n",
    "    :rtype: np.array\n",
    "    \"\"\"\n",
    "    ecliptic = (23.4) * np.sin(2 * np.pi * ra / 360)\n",
    "    flag = [\n",
    "        \"True\"\n",
    "        if dec[j] > -ang + ecliptic[j] and dec[j] < ang + ecliptic[j]\n",
    "        else \"False\"\n",
    "        for j in range(len(ra))\n",
    "    ]\n",
    "    return flag\n",
    "\n",
    "\n",
    "StarCat4[\"ecliptic_pm45deg\"] = ecliptic(\n",
    "    45, StarCat4[\"coo_ra\"], StarCat4[\"coo_dec\"]\n",
    ")"
   ],
   "outputs": [],
   "execution_count": 21
  },
  {
   "cell_type": "markdown",
   "id": "14495999",
   "metadata": {},
   "source": [
    "Let's have a last look at our final catalog and then save the table."
   ]
  },
  {
   "cell_type": "code",
   "id": "49ff0abf",
   "metadata": {
    "ExecuteTime": {
     "end_time": "2025-09-16T14:07:18.744120Z",
     "start_time": "2025-09-16T14:07:17.931425Z"
    }
   },
   "source": [
    "print(StarCat4)\n",
    "# add final plot\n",
    "save([StarCat4], [\"StarCat4\"])"
   ],
   "outputs": [
    {
     "name": "stdout",
     "output_type": "stream",
     "text": [
      "        main_id               coo_ra       ... ecliptic_pm45deg\n",
      "                               deg         ...                 \n",
      "----------------------- ------------------ ... ----------------\n",
      "              Wolf 1014 333.14977013473833 ...             True\n",
      "            CD-31   561     20.85324830649 ...             True\n",
      "             LP  985-98    347.30922753228 ...             True\n",
      "            BD+33  3936     307.8836327668 ...            False\n",
      "               G 166-33 217.49809870100287 ...             True\n",
      "               G 232-69 336.23301395044126 ...            False\n",
      "               G 170-54  264.4020250414213 ...            False\n",
      "            LP  938-112 17.193442268680002 ...             True\n",
      "              L  210-70  306.9253391634817 ...             True\n",
      "                    ...                ... ...              ...\n",
      "             AG+14 2584    347.47892010478 ...             True\n",
      "              HD 218687    347.48792009444 ...             True\n",
      "            BD-20  6558 348.56928489779494 ...             True\n",
      "           BD-20  6558B 348.56858731544924 ...             True\n",
      "              HD 219495  349.3223197803505 ...            False\n",
      "              HD 219509  349.3366964372421 ...            False\n",
      "2MASS J16334908-6808480 248.45438018371166 ...            False\n",
      "2MASS J16334976-6808488 248.45740935813626 ...            False\n",
      "            Wolf 1561 A 334.32905356941666 ...             True\n",
      "            Wolf 1561 B  334.3279097421108 ...             True\n",
      "Length = 3371 rows\n"
     ]
    }
   ],
   "execution_count": 22
  },
  {
   "cell_type": "markdown",
   "id": "22b35edb",
   "metadata": {},
   "source": "We can also look at the distance and spectral type distribution to make sure it looks reasonable."
  },
  {
   "metadata": {
    "ExecuteTime": {
     "end_time": "2025-09-16T14:07:20.451548Z",
     "start_time": "2025-09-16T14:07:20.444365Z"
    }
   },
   "cell_type": "code",
   "source": "print(StarCat4[\"class_temp\", \"dist_st_value\"])",
   "id": "d5f316650c80080c",
   "outputs": [
    {
     "name": "stdout",
     "output_type": "stream",
     "text": [
      "class_temp dist_st_value\n",
      "                 pc     \n",
      "---------- -------------\n",
      "         M          15.9\n",
      "         M         22.93\n",
      "         M         29.46\n",
      "         K         26.93\n",
      "         M         26.15\n",
      "         M         15.68\n",
      "         M         20.53\n",
      "         M         22.82\n",
      "         M         20.39\n",
      "       ...           ...\n",
      "         K         25.15\n",
      "         G         25.13\n",
      "         M         21.09\n",
      "         M         21.06\n",
      "         K         28.45\n",
      "         K         28.46\n",
      "         M         15.11\n",
      "         M         15.34\n",
      "         M         11.05\n",
      "         M         11.14\n",
      "Length = 3371 rows\n"
     ]
    }
   ],
   "execution_count": 23
  },
  {
   "cell_type": "code",
   "id": "f1af365f",
   "metadata": {
    "ExecuteTime": {
     "end_time": "2025-09-16T14:08:44.680283Z",
     "start_time": "2025-09-16T14:08:43.319253Z"
    }
   },
   "source": [
    "from utils.analysis.finalplot import starcat_distribution_plot\n",
    "\n",
    "starcat_distribution_plot(\n",
    "    [StarCat4[\"class_temp\", \"dist_st_value\"]], [\"StarCat4\"])"
   ],
   "outputs": [
    {
     "data": {
      "text/plain": [
       "<Figure size 1600x500 with 2 Axes>"
      ],
      "image/png": "[encoded data removed]"
     },
     "metadata": {},
     "output_type": "display_data",
     "jetTransient": {
      "display_id": null
     }
    }
   ],
   "execution_count": 25
  },
  {
   "cell_type": "markdown",
   "id": "c64996f5",
   "metadata": {},
   "source": [
    "We can observe that the spectral type distribution looks as expected meaning the lower the mass of the star the more of them are within 30pc. We also see that within 20 pc we only have M and K stars in our sample. Also the spectral type distribution of the stars in our catalog between 20-25pc are nearly identical to the ones between 25-30pc. We would expect there to be way more lower mass stars in the further away distance bin. This let's us conclude that at the end of the distance cut our catalog is magnitude limited meaning we miss quite a bit of the faint stars."
   ]
  }
 ],
 "metadata": {
  "kernelspec": {
   "display_name": "Python 3 (ipykernel)",
   "language": "python",
   "name": "python3"
  },
  "language_info": {
   "codemirror_mode": {
    "name": "ipython",
    "version": 3
   },
   "file_extension": ".py",
   "mimetype": "text/x-python",
   "name": "python",
   "nbconvert_exporter": "python",
   "pygments_lexer": "ipython3",
   "version": "3.10.12"
  }
 },
 "nbformat": 4,
 "nbformat_minor": 5
}
