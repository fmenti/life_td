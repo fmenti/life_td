{
 "cells": [
  {
   "cell_type": "markdown",
   "id": "6ac7d6d6",
   "metadata": {},
   "source": [
    "# LIFE Target Database Access\n",
    "## Introduction\n",
    "To access the data from the LIFE database you can either use the\n",
    "graphical user interface TOPCAT https://www.star.bris.ac.uk/~mbt/topcat/ or do it in a python environment."
   ]
  },
  {
   "cell_type": "markdown",
   "id": "f805b994",
   "metadata": {},
   "source": [
    "### TOPCAT\n",
    "Install TOPCAT. Lunch TOPCAT. Click the \"VO\" button on the top header. Click on \"Table Access Protocol (TAP) Query\". In the newly opened window choose from the dropdown menue of \"All TAP services\" the \"GAVO DC TAP\" one."
   ]
  },
  {
   "cell_type": "markdown",
   "id": "b4ea879b",
   "metadata": {},
   "source": [
    "### Python\n",
    "We'll use the virtual observatory tool PyVO to query the database."
   ]
  },
  {
   "cell_type": "code",
   "id": "c5a667f2",
   "metadata": {
    "ExecuteTime": {
     "end_time": "2025-09-15T12:15:52.021532Z",
     "start_time": "2025-09-15T12:15:51.358446Z"
    }
   },
   "source": [
    "import pyvo as vo"
   ],
   "outputs": [],
   "execution_count": 1
  },
  {
   "cell_type": "markdown",
   "id": "3465e0cd",
   "metadata": {},
   "source": [
    "Feel free to adapt the adql_query variable to your liking. If you are unsure of what else you could query have a look at the provided examples http://dc.zah.uni-heidelberg.de/life/q/ex/examples"
   ]
  },
  {
   "cell_type": "code",
   "id": "56765924",
   "metadata": {
    "ExecuteTime": {
     "end_time": "2025-09-15T12:15:53.613705Z",
     "start_time": "2025-09-15T12:15:53.609635Z"
    }
   },
   "source": [
    "adql_query = \"\"\"\n",
    "        SELECT TOP 10 object_id, main_id FROM life_td.object\n",
    "        WHERE type='st'\"\"\""
   ],
   "outputs": [],
   "execution_count": 2
  },
  {
   "cell_type": "code",
   "id": "22cf16dc",
   "metadata": {
    "ExecuteTime": {
     "end_time": "2025-09-15T12:15:55.538842Z",
     "start_time": "2025-09-15T12:15:55.534614Z"
    }
   },
   "source": [
    "link = \"http://dc.zah.uni-heidelberg.de/tap\""
   ],
   "outputs": [],
   "execution_count": 3
  },
  {
   "cell_type": "code",
   "id": "a5b8b99d",
   "metadata": {
    "ExecuteTime": {
     "end_time": "2025-09-15T12:15:57.696950Z",
     "start_time": "2025-09-15T12:15:57.692723Z"
    }
   },
   "source": [
    "service = vo.dal.TAPService(link)"
   ],
   "outputs": [],
   "execution_count": 4
  },
  {
   "cell_type": "code",
   "id": "481a04f6",
   "metadata": {
    "ExecuteTime": {
     "end_time": "2025-09-15T12:16:04.969066Z",
     "start_time": "2025-09-15T12:15:59.150532Z"
    }
   },
   "source": [
    "result = service.run_async(adql_query.format(**locals()), maxrec=160000)"
   ],
   "outputs": [],
   "execution_count": 5
  },
  {
   "cell_type": "code",
   "id": "8975615a",
   "metadata": {
    "ExecuteTime": {
     "end_time": "2025-09-15T12:16:04.988196Z",
     "start_time": "2025-09-15T12:16:04.981902Z"
    }
   },
   "source": [
    "catalog = result.to_table()"
   ],
   "outputs": [],
   "execution_count": 6
  },
  {
   "cell_type": "code",
   "id": "9dba2906",
   "metadata": {
    "ExecuteTime": {
     "end_time": "2025-09-15T12:16:05.051475Z",
     "start_time": "2025-09-15T12:16:05.045159Z"
    }
   },
   "source": [
    "print(catalog)"
   ],
   "outputs": [
    {
     "name": "stdout",
     "output_type": "stream",
     "text": [
      "object_id   main_id  \n",
      "--------- -----------\n",
      "        1   *   1 Hya\n",
      "        2 *   1 Hya B\n",
      "        3 *   1 Hya C\n",
      "        4   *   3 Cyg\n",
      "        6   *   5 Pup\n",
      "        7   *   5 Ser\n",
      "        8 *   5 Ser B\n",
      "        9   *   6 And\n",
      "       10   *   6 Cet\n",
      "       11   *   7 And\n"
     ]
    }
   ],
   "execution_count": 7
  }
 ],
 "metadata": {
  "kernelspec": {
   "display_name": "Python 3 (ipykernel)",
   "language": "python",
   "name": "python3"
  },
  "language_info": {
   "codemirror_mode": {
    "name": "ipython",
    "version": 3
   },
   "file_extension": ".py",
   "mimetype": "text/x-python",
   "name": "python",
   "nbconvert_exporter": "python",
   "pygments_lexer": "ipython3",
   "version": "3.10.12"
  }
 },
 "nbformat": 4,
 "nbformat_minor": 5
}
